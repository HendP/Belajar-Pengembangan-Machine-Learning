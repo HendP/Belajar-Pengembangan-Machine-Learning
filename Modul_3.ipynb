{
  "nbformat": 4,
  "nbformat_minor": 0,
  "metadata": {
    "colab": {
      "name": "Modul 3",
      "provenance": [],
      "authorship_tag": "ABX9TyMv8Oq85yR3sQ7OZWz0gzU1",
      "include_colab_link": true
    },
    "kernelspec": {
      "name": "python3",
      "display_name": "Python 3"
    }
  },
  "cells": [
    {
      "cell_type": "markdown",
      "metadata": {
        "id": "view-in-github",
        "colab_type": "text"
      },
      "source": [
        "<a href=\"https://colab.research.google.com/github/agungtriu/Belajar-Pengembangan-Machine-Learning/blob/master/Modul_3.ipynb\" target=\"_parent\"><img src=\"https://colab.research.google.com/assets/colab-badge.svg\" alt=\"Open In Colab\"/></a>"
      ]
    },
    {
      "cell_type": "markdown",
      "metadata": {
        "id": "uNwtHsoA87ZE",
        "colab_type": "text"
      },
      "source": [
        "# Menggunakan Model untuk Melakukan Prediksi"
      ]
    },
    {
      "cell_type": "code",
      "metadata": {
        "id": "FrfZc0IF9NYV",
        "colab_type": "code",
        "colab": {}
      },
      "source": [
        "import tensorflow as tf\n",
        "import numpy as np\n",
        "from tensorflow import keras"
      ],
      "execution_count": 100,
      "outputs": []
    },
    {
      "cell_type": "code",
      "metadata": {
        "id": "tayRMdNL9P6W",
        "colab_type": "code",
        "colab": {}
      },
      "source": [
        "xs = np.array([1.0,  2.0, 3.0, 4.0, 5.0, 6.0], dtype=float)\n",
        "ys = np.array([4.0, 6.0, 8.0, 10.0, 12.0, 14.0], dtype=float)"
      ],
      "execution_count": 101,
      "outputs": []
    },
    {
      "cell_type": "code",
      "metadata": {
        "id": "iMU-cKEN9Tsx",
        "colab_type": "code",
        "colab": {}
      },
      "source": [
        "model = tf.keras.Sequential([keras.layers.Dense(units=1, input_shape=[1])])"
      ],
      "execution_count": 102,
      "outputs": []
    },
    {
      "cell_type": "code",
      "metadata": {
        "id": "rOClqoMO9VjL",
        "colab_type": "code",
        "colab": {}
      },
      "source": [
        "model.compile(optimizer='sgd', loss='mean_squared_error')"
      ],
      "execution_count": 103,
      "outputs": []
    },
    {
      "cell_type": "code",
      "metadata": {
        "id": "UGKOl9XW9Xyy",
        "colab_type": "code",
        "colab": {
          "base_uri": "https://localhost:8080/",
          "height": 1000
        },
        "outputId": "048d2b0a-28d5-4dac-ad50-15a757e98593"
      },
      "source": [
        "model.fit(xs, ys, epochs=150)"
      ],
      "execution_count": 104,
      "outputs": [
        {
          "output_type": "stream",
          "text": [
            "Epoch 1/150\n",
            "1/1 [==============================] - 0s 1ms/step - loss: 221.1182\n",
            "Epoch 2/150\n",
            "1/1 [==============================] - 0s 1ms/step - loss: 102.4760\n",
            "Epoch 3/150\n",
            "1/1 [==============================] - 0s 4ms/step - loss: 47.5639\n",
            "Epoch 4/150\n",
            "1/1 [==============================] - 0s 2ms/step - loss: 22.1479\n",
            "Epoch 5/150\n",
            "1/1 [==============================] - 0s 2ms/step - loss: 10.3837\n",
            "Epoch 6/150\n",
            "1/1 [==============================] - 0s 2ms/step - loss: 4.9379\n",
            "Epoch 7/150\n",
            "1/1 [==============================] - 0s 2ms/step - loss: 2.4164\n",
            "Epoch 8/150\n",
            "1/1 [==============================] - 0s 2ms/step - loss: 1.2485\n",
            "Epoch 9/150\n",
            "1/1 [==============================] - 0s 2ms/step - loss: 0.7069\n",
            "Epoch 10/150\n",
            "1/1 [==============================] - 0s 2ms/step - loss: 0.4554\n",
            "Epoch 11/150\n",
            "1/1 [==============================] - 0s 1ms/step - loss: 0.3380\n",
            "Epoch 12/150\n",
            "1/1 [==============================] - 0s 1ms/step - loss: 0.2828\n",
            "Epoch 13/150\n",
            "1/1 [==============================] - 0s 2ms/step - loss: 0.2563\n",
            "Epoch 14/150\n",
            "1/1 [==============================] - 0s 2ms/step - loss: 0.2431\n",
            "Epoch 15/150\n",
            "1/1 [==============================] - 0s 2ms/step - loss: 0.2361\n",
            "Epoch 16/150\n",
            "1/1 [==============================] - 0s 2ms/step - loss: 0.2320\n",
            "Epoch 17/150\n",
            "1/1 [==============================] - 0s 2ms/step - loss: 0.2291\n",
            "Epoch 18/150\n",
            "1/1 [==============================] - 0s 2ms/step - loss: 0.2270\n",
            "Epoch 19/150\n",
            "1/1 [==============================] - 0s 2ms/step - loss: 0.2251\n",
            "Epoch 20/150\n",
            "1/1 [==============================] - 0s 2ms/step - loss: 0.2233\n",
            "Epoch 21/150\n",
            "1/1 [==============================] - 0s 2ms/step - loss: 0.2216\n",
            "Epoch 22/150\n",
            "1/1 [==============================] - 0s 2ms/step - loss: 0.2200\n",
            "Epoch 23/150\n",
            "1/1 [==============================] - 0s 2ms/step - loss: 0.2184\n",
            "Epoch 24/150\n",
            "1/1 [==============================] - 0s 2ms/step - loss: 0.2168\n",
            "Epoch 25/150\n",
            "1/1 [==============================] - 0s 2ms/step - loss: 0.2152\n",
            "Epoch 26/150\n",
            "1/1 [==============================] - 0s 2ms/step - loss: 0.2136\n",
            "Epoch 27/150\n",
            "1/1 [==============================] - 0s 2ms/step - loss: 0.2121\n",
            "Epoch 28/150\n",
            "1/1 [==============================] - 0s 1ms/step - loss: 0.2105\n",
            "Epoch 29/150\n",
            "1/1 [==============================] - 0s 2ms/step - loss: 0.2090\n",
            "Epoch 30/150\n",
            "1/1 [==============================] - 0s 2ms/step - loss: 0.2075\n",
            "Epoch 31/150\n",
            "1/1 [==============================] - 0s 2ms/step - loss: 0.2060\n",
            "Epoch 32/150\n",
            "1/1 [==============================] - 0s 2ms/step - loss: 0.2045\n",
            "Epoch 33/150\n",
            "1/1 [==============================] - 0s 2ms/step - loss: 0.2030\n",
            "Epoch 34/150\n",
            "1/1 [==============================] - 0s 2ms/step - loss: 0.2015\n",
            "Epoch 35/150\n",
            "1/1 [==============================] - 0s 2ms/step - loss: 0.2000\n",
            "Epoch 36/150\n",
            "1/1 [==============================] - 0s 2ms/step - loss: 0.1986\n",
            "Epoch 37/150\n",
            "1/1 [==============================] - 0s 2ms/step - loss: 0.1971\n",
            "Epoch 38/150\n",
            "1/1 [==============================] - 0s 2ms/step - loss: 0.1957\n",
            "Epoch 39/150\n",
            "1/1 [==============================] - 0s 2ms/step - loss: 0.1943\n",
            "Epoch 40/150\n",
            "1/1 [==============================] - 0s 2ms/step - loss: 0.1928\n",
            "Epoch 41/150\n",
            "1/1 [==============================] - 0s 2ms/step - loss: 0.1914\n",
            "Epoch 42/150\n",
            "1/1 [==============================] - 0s 1ms/step - loss: 0.1900\n",
            "Epoch 43/150\n",
            "1/1 [==============================] - 0s 1ms/step - loss: 0.1887\n",
            "Epoch 44/150\n",
            "1/1 [==============================] - 0s 2ms/step - loss: 0.1873\n",
            "Epoch 45/150\n",
            "1/1 [==============================] - 0s 2ms/step - loss: 0.1859\n",
            "Epoch 46/150\n",
            "1/1 [==============================] - 0s 2ms/step - loss: 0.1846\n",
            "Epoch 47/150\n",
            "1/1 [==============================] - 0s 2ms/step - loss: 0.1832\n",
            "Epoch 48/150\n",
            "1/1 [==============================] - 0s 2ms/step - loss: 0.1819\n",
            "Epoch 49/150\n",
            "1/1 [==============================] - 0s 2ms/step - loss: 0.1806\n",
            "Epoch 50/150\n",
            "1/1 [==============================] - 0s 2ms/step - loss: 0.1792\n",
            "Epoch 51/150\n",
            "1/1 [==============================] - 0s 2ms/step - loss: 0.1779\n",
            "Epoch 52/150\n",
            "1/1 [==============================] - 0s 2ms/step - loss: 0.1766\n",
            "Epoch 53/150\n",
            "1/1 [==============================] - 0s 2ms/step - loss: 0.1754\n",
            "Epoch 54/150\n",
            "1/1 [==============================] - 0s 2ms/step - loss: 0.1741\n",
            "Epoch 55/150\n",
            "1/1 [==============================] - 0s 1ms/step - loss: 0.1728\n",
            "Epoch 56/150\n",
            "1/1 [==============================] - 0s 2ms/step - loss: 0.1716\n",
            "Epoch 57/150\n",
            "1/1 [==============================] - 0s 2ms/step - loss: 0.1703\n",
            "Epoch 58/150\n",
            "1/1 [==============================] - 0s 2ms/step - loss: 0.1691\n",
            "Epoch 59/150\n",
            "1/1 [==============================] - 0s 1ms/step - loss: 0.1678\n",
            "Epoch 60/150\n",
            "1/1 [==============================] - 0s 1ms/step - loss: 0.1666\n",
            "Epoch 61/150\n",
            "1/1 [==============================] - 0s 2ms/step - loss: 0.1654\n",
            "Epoch 62/150\n",
            "1/1 [==============================] - 0s 1ms/step - loss: 0.1642\n",
            "Epoch 63/150\n",
            "1/1 [==============================] - 0s 2ms/step - loss: 0.1630\n",
            "Epoch 64/150\n",
            "1/1 [==============================] - 0s 1ms/step - loss: 0.1618\n",
            "Epoch 65/150\n",
            "1/1 [==============================] - 0s 1ms/step - loss: 0.1606\n",
            "Epoch 66/150\n",
            "1/1 [==============================] - 0s 2ms/step - loss: 0.1595\n",
            "Epoch 67/150\n",
            "1/1 [==============================] - 0s 3ms/step - loss: 0.1583\n",
            "Epoch 68/150\n",
            "1/1 [==============================] - 0s 2ms/step - loss: 0.1571\n",
            "Epoch 69/150\n",
            "1/1 [==============================] - 0s 2ms/step - loss: 0.1560\n",
            "Epoch 70/150\n",
            "1/1 [==============================] - 0s 2ms/step - loss: 0.1549\n",
            "Epoch 71/150\n",
            "1/1 [==============================] - 0s 2ms/step - loss: 0.1537\n",
            "Epoch 72/150\n",
            "1/1 [==============================] - 0s 2ms/step - loss: 0.1526\n",
            "Epoch 73/150\n",
            "1/1 [==============================] - 0s 3ms/step - loss: 0.1515\n",
            "Epoch 74/150\n",
            "1/1 [==============================] - 0s 902us/step - loss: 0.1504\n",
            "Epoch 75/150\n",
            "1/1 [==============================] - 0s 2ms/step - loss: 0.1493\n",
            "Epoch 76/150\n",
            "1/1 [==============================] - 0s 4ms/step - loss: 0.1482\n",
            "Epoch 77/150\n",
            "1/1 [==============================] - 0s 2ms/step - loss: 0.1471\n",
            "Epoch 78/150\n",
            "1/1 [==============================] - 0s 1ms/step - loss: 0.1461\n",
            "Epoch 79/150\n",
            "1/1 [==============================] - 0s 873us/step - loss: 0.1450\n",
            "Epoch 80/150\n",
            "1/1 [==============================] - 0s 2ms/step - loss: 0.1439\n",
            "Epoch 81/150\n",
            "1/1 [==============================] - 0s 1ms/step - loss: 0.1429\n",
            "Epoch 82/150\n",
            "1/1 [==============================] - 0s 1ms/step - loss: 0.1418\n",
            "Epoch 83/150\n",
            "1/1 [==============================] - 0s 1ms/step - loss: 0.1408\n",
            "Epoch 84/150\n",
            "1/1 [==============================] - 0s 1ms/step - loss: 0.1398\n",
            "Epoch 85/150\n",
            "1/1 [==============================] - 0s 1ms/step - loss: 0.1388\n",
            "Epoch 86/150\n",
            "1/1 [==============================] - 0s 2ms/step - loss: 0.1378\n",
            "Epoch 87/150\n",
            "1/1 [==============================] - 0s 1ms/step - loss: 0.1368\n",
            "Epoch 88/150\n",
            "1/1 [==============================] - 0s 1ms/step - loss: 0.1358\n",
            "Epoch 89/150\n",
            "1/1 [==============================] - 0s 2ms/step - loss: 0.1348\n",
            "Epoch 90/150\n",
            "1/1 [==============================] - 0s 1ms/step - loss: 0.1338\n",
            "Epoch 91/150\n",
            "1/1 [==============================] - 0s 1ms/step - loss: 0.1328\n",
            "Epoch 92/150\n",
            "1/1 [==============================] - 0s 1ms/step - loss: 0.1318\n",
            "Epoch 93/150\n",
            "1/1 [==============================] - 0s 1ms/step - loss: 0.1309\n",
            "Epoch 94/150\n",
            "1/1 [==============================] - 0s 3ms/step - loss: 0.1299\n",
            "Epoch 95/150\n",
            "1/1 [==============================] - 0s 1ms/step - loss: 0.1290\n",
            "Epoch 96/150\n",
            "1/1 [==============================] - 0s 1ms/step - loss: 0.1280\n",
            "Epoch 97/150\n",
            "1/1 [==============================] - 0s 1ms/step - loss: 0.1271\n",
            "Epoch 98/150\n",
            "1/1 [==============================] - 0s 1ms/step - loss: 0.1262\n",
            "Epoch 99/150\n",
            "1/1 [==============================] - 0s 1ms/step - loss: 0.1253\n",
            "Epoch 100/150\n",
            "1/1 [==============================] - 0s 1ms/step - loss: 0.1244\n",
            "Epoch 101/150\n",
            "1/1 [==============================] - 0s 2ms/step - loss: 0.1234\n",
            "Epoch 102/150\n",
            "1/1 [==============================] - 0s 1ms/step - loss: 0.1225\n",
            "Epoch 103/150\n",
            "1/1 [==============================] - 0s 1ms/step - loss: 0.1217\n",
            "Epoch 104/150\n",
            "1/1 [==============================] - 0s 1ms/step - loss: 0.1208\n",
            "Epoch 105/150\n",
            "1/1 [==============================] - 0s 1ms/step - loss: 0.1199\n",
            "Epoch 106/150\n",
            "1/1 [==============================] - 0s 2ms/step - loss: 0.1190\n",
            "Epoch 107/150\n",
            "1/1 [==============================] - 0s 2ms/step - loss: 0.1182\n",
            "Epoch 108/150\n",
            "1/1 [==============================] - 0s 2ms/step - loss: 0.1173\n",
            "Epoch 109/150\n",
            "1/1 [==============================] - 0s 1ms/step - loss: 0.1164\n",
            "Epoch 110/150\n",
            "1/1 [==============================] - 0s 1ms/step - loss: 0.1156\n",
            "Epoch 111/150\n",
            "1/1 [==============================] - 0s 2ms/step - loss: 0.1147\n",
            "Epoch 112/150\n",
            "1/1 [==============================] - 0s 2ms/step - loss: 0.1139\n",
            "Epoch 113/150\n",
            "1/1 [==============================] - 0s 1ms/step - loss: 0.1131\n",
            "Epoch 114/150\n",
            "1/1 [==============================] - 0s 2ms/step - loss: 0.1123\n",
            "Epoch 115/150\n",
            "1/1 [==============================] - 0s 1ms/step - loss: 0.1114\n",
            "Epoch 116/150\n",
            "1/1 [==============================] - 0s 1ms/step - loss: 0.1106\n",
            "Epoch 117/150\n",
            "1/1 [==============================] - 0s 1ms/step - loss: 0.1098\n",
            "Epoch 118/150\n",
            "1/1 [==============================] - 0s 1ms/step - loss: 0.1090\n",
            "Epoch 119/150\n",
            "1/1 [==============================] - 0s 2ms/step - loss: 0.1082\n",
            "Epoch 120/150\n",
            "1/1 [==============================] - 0s 2ms/step - loss: 0.1074\n",
            "Epoch 121/150\n",
            "1/1 [==============================] - 0s 1ms/step - loss: 0.1067\n",
            "Epoch 122/150\n",
            "1/1 [==============================] - 0s 2ms/step - loss: 0.1059\n",
            "Epoch 123/150\n",
            "1/1 [==============================] - 0s 1ms/step - loss: 0.1051\n",
            "Epoch 124/150\n",
            "1/1 [==============================] - 0s 2ms/step - loss: 0.1043\n",
            "Epoch 125/150\n",
            "1/1 [==============================] - 0s 2ms/step - loss: 0.1036\n",
            "Epoch 126/150\n",
            "1/1 [==============================] - 0s 2ms/step - loss: 0.1028\n",
            "Epoch 127/150\n",
            "1/1 [==============================] - 0s 2ms/step - loss: 0.1021\n",
            "Epoch 128/150\n",
            "1/1 [==============================] - 0s 1ms/step - loss: 0.1013\n",
            "Epoch 129/150\n",
            "1/1 [==============================] - 0s 1ms/step - loss: 0.1006\n",
            "Epoch 130/150\n",
            "1/1 [==============================] - 0s 1ms/step - loss: 0.0999\n",
            "Epoch 131/150\n",
            "1/1 [==============================] - 0s 938us/step - loss: 0.0991\n",
            "Epoch 132/150\n",
            "1/1 [==============================] - 0s 1ms/step - loss: 0.0984\n",
            "Epoch 133/150\n",
            "1/1 [==============================] - 0s 1ms/step - loss: 0.0977\n",
            "Epoch 134/150\n",
            "1/1 [==============================] - 0s 1ms/step - loss: 0.0970\n",
            "Epoch 135/150\n",
            "1/1 [==============================] - 0s 1ms/step - loss: 0.0963\n",
            "Epoch 136/150\n",
            "1/1 [==============================] - 0s 1ms/step - loss: 0.0956\n",
            "Epoch 137/150\n",
            "1/1 [==============================] - 0s 1ms/step - loss: 0.0949\n",
            "Epoch 138/150\n",
            "1/1 [==============================] - 0s 1ms/step - loss: 0.0942\n",
            "Epoch 139/150\n",
            "1/1 [==============================] - 0s 1ms/step - loss: 0.0935\n",
            "Epoch 140/150\n",
            "1/1 [==============================] - 0s 2ms/step - loss: 0.0928\n",
            "Epoch 141/150\n",
            "1/1 [==============================] - 0s 1ms/step - loss: 0.0921\n",
            "Epoch 142/150\n",
            "1/1 [==============================] - 0s 1ms/step - loss: 0.0915\n",
            "Epoch 143/150\n",
            "1/1 [==============================] - 0s 1ms/step - loss: 0.0908\n",
            "Epoch 144/150\n",
            "1/1 [==============================] - 0s 1ms/step - loss: 0.0901\n",
            "Epoch 145/150\n",
            "1/1 [==============================] - 0s 1ms/step - loss: 0.0895\n",
            "Epoch 146/150\n",
            "1/1 [==============================] - 0s 3ms/step - loss: 0.0888\n",
            "Epoch 147/150\n",
            "1/1 [==============================] - 0s 2ms/step - loss: 0.0882\n",
            "Epoch 148/150\n",
            "1/1 [==============================] - 0s 2ms/step - loss: 0.0875\n",
            "Epoch 149/150\n",
            "1/1 [==============================] - 0s 2ms/step - loss: 0.0869\n",
            "Epoch 150/150\n",
            "1/1 [==============================] - 0s 2ms/step - loss: 0.0863\n"
          ],
          "name": "stdout"
        },
        {
          "output_type": "execute_result",
          "data": {
            "text/plain": [
              "<tensorflow.python.keras.callbacks.History at 0x7f817dd135f8>"
            ]
          },
          "metadata": {
            "tags": []
          },
          "execution_count": 104
        }
      ]
    },
    {
      "cell_type": "code",
      "metadata": {
        "id": "zwm__okl9alN",
        "colab_type": "code",
        "colab": {
          "base_uri": "https://localhost:8080/",
          "height": 35
        },
        "outputId": "69a000c7-2588-40cf-98d4-10428740463e"
      },
      "source": [
        "print(model.predict([10.0]))"
      ],
      "execution_count": 105,
      "outputs": [
        {
          "output_type": "stream",
          "text": [
            "[[22.891165]]\n"
          ],
          "name": "stdout"
        }
      ]
    },
    {
      "cell_type": "markdown",
      "metadata": {
        "id": "tct2BFqP9G1z",
        "colab_type": "text"
      },
      "source": [
        "# Build dan Train Neural Network Model Tensorflow dan Keras"
      ]
    },
    {
      "cell_type": "code",
      "metadata": {
        "id": "sICjonWDtQLE",
        "colab_type": "code",
        "colab": {
          "base_uri": "https://localhost:8080/",
          "height": 243
        },
        "outputId": "80d8dfa0-3ae1-4a9d-e0dd-9b2fcdc6e1e4"
      },
      "source": [
        "import pandas as pd\n",
        "df = pd.read_csv('citrus.csv')\n",
        "df.info()"
      ],
      "execution_count": 88,
      "outputs": [
        {
          "output_type": "stream",
          "text": [
            "<class 'pandas.core.frame.DataFrame'>\n",
            "RangeIndex: 10000 entries, 0 to 9999\n",
            "Data columns (total 6 columns):\n",
            " #   Column    Non-Null Count  Dtype  \n",
            "---  ------    --------------  -----  \n",
            " 0   name      10000 non-null  object \n",
            " 1   diameter  10000 non-null  float64\n",
            " 2   weight    10000 non-null  float64\n",
            " 3   red       10000 non-null  int64  \n",
            " 4   green     10000 non-null  int64  \n",
            " 5   blue      10000 non-null  int64  \n",
            "dtypes: float64(2), int64(3), object(1)\n",
            "memory usage: 468.9+ KB\n"
          ],
          "name": "stdout"
        }
      ]
    },
    {
      "cell_type": "code",
      "metadata": {
        "id": "jNdxjNU6uGmh",
        "colab_type": "code",
        "colab": {
          "base_uri": "https://localhost:8080/",
          "height": 415
        },
        "outputId": "a997e2a6-14cb-4ae2-82d7-564155fc72d0"
      },
      "source": [
        "df.head(10000)"
      ],
      "execution_count": 89,
      "outputs": [
        {
          "output_type": "execute_result",
          "data": {
            "text/html": [
              "<div>\n",
              "<style scoped>\n",
              "    .dataframe tbody tr th:only-of-type {\n",
              "        vertical-align: middle;\n",
              "    }\n",
              "\n",
              "    .dataframe tbody tr th {\n",
              "        vertical-align: top;\n",
              "    }\n",
              "\n",
              "    .dataframe thead th {\n",
              "        text-align: right;\n",
              "    }\n",
              "</style>\n",
              "<table border=\"1\" class=\"dataframe\">\n",
              "  <thead>\n",
              "    <tr style=\"text-align: right;\">\n",
              "      <th></th>\n",
              "      <th>name</th>\n",
              "      <th>diameter</th>\n",
              "      <th>weight</th>\n",
              "      <th>red</th>\n",
              "      <th>green</th>\n",
              "      <th>blue</th>\n",
              "    </tr>\n",
              "  </thead>\n",
              "  <tbody>\n",
              "    <tr>\n",
              "      <th>0</th>\n",
              "      <td>orange</td>\n",
              "      <td>2.96</td>\n",
              "      <td>86.76</td>\n",
              "      <td>172</td>\n",
              "      <td>85</td>\n",
              "      <td>2</td>\n",
              "    </tr>\n",
              "    <tr>\n",
              "      <th>1</th>\n",
              "      <td>orange</td>\n",
              "      <td>3.91</td>\n",
              "      <td>88.05</td>\n",
              "      <td>166</td>\n",
              "      <td>78</td>\n",
              "      <td>3</td>\n",
              "    </tr>\n",
              "    <tr>\n",
              "      <th>2</th>\n",
              "      <td>orange</td>\n",
              "      <td>4.42</td>\n",
              "      <td>95.17</td>\n",
              "      <td>156</td>\n",
              "      <td>81</td>\n",
              "      <td>2</td>\n",
              "    </tr>\n",
              "    <tr>\n",
              "      <th>3</th>\n",
              "      <td>orange</td>\n",
              "      <td>4.47</td>\n",
              "      <td>95.60</td>\n",
              "      <td>163</td>\n",
              "      <td>81</td>\n",
              "      <td>4</td>\n",
              "    </tr>\n",
              "    <tr>\n",
              "      <th>4</th>\n",
              "      <td>orange</td>\n",
              "      <td>4.48</td>\n",
              "      <td>95.76</td>\n",
              "      <td>161</td>\n",
              "      <td>72</td>\n",
              "      <td>9</td>\n",
              "    </tr>\n",
              "    <tr>\n",
              "      <th>...</th>\n",
              "      <td>...</td>\n",
              "      <td>...</td>\n",
              "      <td>...</td>\n",
              "      <td>...</td>\n",
              "      <td>...</td>\n",
              "      <td>...</td>\n",
              "    </tr>\n",
              "    <tr>\n",
              "      <th>9995</th>\n",
              "      <td>grapefruit</td>\n",
              "      <td>15.35</td>\n",
              "      <td>253.89</td>\n",
              "      <td>149</td>\n",
              "      <td>77</td>\n",
              "      <td>20</td>\n",
              "    </tr>\n",
              "    <tr>\n",
              "      <th>9996</th>\n",
              "      <td>grapefruit</td>\n",
              "      <td>15.41</td>\n",
              "      <td>254.67</td>\n",
              "      <td>148</td>\n",
              "      <td>68</td>\n",
              "      <td>7</td>\n",
              "    </tr>\n",
              "    <tr>\n",
              "      <th>9997</th>\n",
              "      <td>grapefruit</td>\n",
              "      <td>15.59</td>\n",
              "      <td>256.50</td>\n",
              "      <td>168</td>\n",
              "      <td>82</td>\n",
              "      <td>20</td>\n",
              "    </tr>\n",
              "    <tr>\n",
              "      <th>9998</th>\n",
              "      <td>grapefruit</td>\n",
              "      <td>15.92</td>\n",
              "      <td>260.14</td>\n",
              "      <td>142</td>\n",
              "      <td>72</td>\n",
              "      <td>11</td>\n",
              "    </tr>\n",
              "    <tr>\n",
              "      <th>9999</th>\n",
              "      <td>grapefruit</td>\n",
              "      <td>16.45</td>\n",
              "      <td>261.51</td>\n",
              "      <td>152</td>\n",
              "      <td>74</td>\n",
              "      <td>2</td>\n",
              "    </tr>\n",
              "  </tbody>\n",
              "</table>\n",
              "<p>10000 rows × 6 columns</p>\n",
              "</div>"
            ],
            "text/plain": [
              "            name  diameter  weight  red  green  blue\n",
              "0         orange      2.96   86.76  172     85     2\n",
              "1         orange      3.91   88.05  166     78     3\n",
              "2         orange      4.42   95.17  156     81     2\n",
              "3         orange      4.47   95.60  163     81     4\n",
              "4         orange      4.48   95.76  161     72     9\n",
              "...          ...       ...     ...  ...    ...   ...\n",
              "9995  grapefruit     15.35  253.89  149     77    20\n",
              "9996  grapefruit     15.41  254.67  148     68     7\n",
              "9997  grapefruit     15.59  256.50  168     82    20\n",
              "9998  grapefruit     15.92  260.14  142     72    11\n",
              "9999  grapefruit     16.45  261.51  152     74     2\n",
              "\n",
              "[10000 rows x 6 columns]"
            ]
          },
          "metadata": {
            "tags": []
          },
          "execution_count": 89
        }
      ]
    },
    {
      "cell_type": "code",
      "metadata": {
        "id": "dmN1hSV_uI7u",
        "colab_type": "code",
        "colab": {
          "base_uri": "https://localhost:8080/",
          "height": 211
        },
        "outputId": "5be00a31-0d46-4d5d-a3a3-4c1a04e62ca5"
      },
      "source": [
        "df.name[df.name == 'orange'] = 0\n",
        "df.name[df.name == 'grapefruit'] = 1"
      ],
      "execution_count": 90,
      "outputs": [
        {
          "output_type": "stream",
          "text": [
            "/usr/local/lib/python3.6/dist-packages/ipykernel_launcher.py:1: SettingWithCopyWarning: \n",
            "A value is trying to be set on a copy of a slice from a DataFrame\n",
            "\n",
            "See the caveats in the documentation: https://pandas.pydata.org/pandas-docs/stable/user_guide/indexing.html#returning-a-view-versus-a-copy\n",
            "  \"\"\"Entry point for launching an IPython kernel.\n",
            "/usr/local/lib/python3.6/dist-packages/ipykernel_launcher.py:2: SettingWithCopyWarning: \n",
            "A value is trying to be set on a copy of a slice from a DataFrame\n",
            "\n",
            "See the caveats in the documentation: https://pandas.pydata.org/pandas-docs/stable/user_guide/indexing.html#returning-a-view-versus-a-copy\n",
            "  \n"
          ],
          "name": "stderr"
        }
      ]
    },
    {
      "cell_type": "code",
      "metadata": {
        "id": "qtxdn-tGumXK",
        "colab_type": "code",
        "colab": {
          "base_uri": "https://localhost:8080/",
          "height": 415
        },
        "outputId": "5b4a2cb3-b56f-457d-896a-b049a2142125"
      },
      "source": [
        "df.head(10000)"
      ],
      "execution_count": 91,
      "outputs": [
        {
          "output_type": "execute_result",
          "data": {
            "text/html": [
              "<div>\n",
              "<style scoped>\n",
              "    .dataframe tbody tr th:only-of-type {\n",
              "        vertical-align: middle;\n",
              "    }\n",
              "\n",
              "    .dataframe tbody tr th {\n",
              "        vertical-align: top;\n",
              "    }\n",
              "\n",
              "    .dataframe thead th {\n",
              "        text-align: right;\n",
              "    }\n",
              "</style>\n",
              "<table border=\"1\" class=\"dataframe\">\n",
              "  <thead>\n",
              "    <tr style=\"text-align: right;\">\n",
              "      <th></th>\n",
              "      <th>name</th>\n",
              "      <th>diameter</th>\n",
              "      <th>weight</th>\n",
              "      <th>red</th>\n",
              "      <th>green</th>\n",
              "      <th>blue</th>\n",
              "    </tr>\n",
              "  </thead>\n",
              "  <tbody>\n",
              "    <tr>\n",
              "      <th>0</th>\n",
              "      <td>0</td>\n",
              "      <td>2.96</td>\n",
              "      <td>86.76</td>\n",
              "      <td>172</td>\n",
              "      <td>85</td>\n",
              "      <td>2</td>\n",
              "    </tr>\n",
              "    <tr>\n",
              "      <th>1</th>\n",
              "      <td>0</td>\n",
              "      <td>3.91</td>\n",
              "      <td>88.05</td>\n",
              "      <td>166</td>\n",
              "      <td>78</td>\n",
              "      <td>3</td>\n",
              "    </tr>\n",
              "    <tr>\n",
              "      <th>2</th>\n",
              "      <td>0</td>\n",
              "      <td>4.42</td>\n",
              "      <td>95.17</td>\n",
              "      <td>156</td>\n",
              "      <td>81</td>\n",
              "      <td>2</td>\n",
              "    </tr>\n",
              "    <tr>\n",
              "      <th>3</th>\n",
              "      <td>0</td>\n",
              "      <td>4.47</td>\n",
              "      <td>95.60</td>\n",
              "      <td>163</td>\n",
              "      <td>81</td>\n",
              "      <td>4</td>\n",
              "    </tr>\n",
              "    <tr>\n",
              "      <th>4</th>\n",
              "      <td>0</td>\n",
              "      <td>4.48</td>\n",
              "      <td>95.76</td>\n",
              "      <td>161</td>\n",
              "      <td>72</td>\n",
              "      <td>9</td>\n",
              "    </tr>\n",
              "    <tr>\n",
              "      <th>...</th>\n",
              "      <td>...</td>\n",
              "      <td>...</td>\n",
              "      <td>...</td>\n",
              "      <td>...</td>\n",
              "      <td>...</td>\n",
              "      <td>...</td>\n",
              "    </tr>\n",
              "    <tr>\n",
              "      <th>9995</th>\n",
              "      <td>1</td>\n",
              "      <td>15.35</td>\n",
              "      <td>253.89</td>\n",
              "      <td>149</td>\n",
              "      <td>77</td>\n",
              "      <td>20</td>\n",
              "    </tr>\n",
              "    <tr>\n",
              "      <th>9996</th>\n",
              "      <td>1</td>\n",
              "      <td>15.41</td>\n",
              "      <td>254.67</td>\n",
              "      <td>148</td>\n",
              "      <td>68</td>\n",
              "      <td>7</td>\n",
              "    </tr>\n",
              "    <tr>\n",
              "      <th>9997</th>\n",
              "      <td>1</td>\n",
              "      <td>15.59</td>\n",
              "      <td>256.50</td>\n",
              "      <td>168</td>\n",
              "      <td>82</td>\n",
              "      <td>20</td>\n",
              "    </tr>\n",
              "    <tr>\n",
              "      <th>9998</th>\n",
              "      <td>1</td>\n",
              "      <td>15.92</td>\n",
              "      <td>260.14</td>\n",
              "      <td>142</td>\n",
              "      <td>72</td>\n",
              "      <td>11</td>\n",
              "    </tr>\n",
              "    <tr>\n",
              "      <th>9999</th>\n",
              "      <td>1</td>\n",
              "      <td>16.45</td>\n",
              "      <td>261.51</td>\n",
              "      <td>152</td>\n",
              "      <td>74</td>\n",
              "      <td>2</td>\n",
              "    </tr>\n",
              "  </tbody>\n",
              "</table>\n",
              "<p>10000 rows × 6 columns</p>\n",
              "</div>"
            ],
            "text/plain": [
              "     name  diameter  weight  red  green  blue\n",
              "0       0      2.96   86.76  172     85     2\n",
              "1       0      3.91   88.05  166     78     3\n",
              "2       0      4.42   95.17  156     81     2\n",
              "3       0      4.47   95.60  163     81     4\n",
              "4       0      4.48   95.76  161     72     9\n",
              "...   ...       ...     ...  ...    ...   ...\n",
              "9995    1     15.35  253.89  149     77    20\n",
              "9996    1     15.41  254.67  148     68     7\n",
              "9997    1     15.59  256.50  168     82    20\n",
              "9998    1     15.92  260.14  142     72    11\n",
              "9999    1     16.45  261.51  152     74     2\n",
              "\n",
              "[10000 rows x 6 columns]"
            ]
          },
          "metadata": {
            "tags": []
          },
          "execution_count": 91
        }
      ]
    },
    {
      "cell_type": "code",
      "metadata": {
        "id": "ogLoWBIMuou_",
        "colab_type": "code",
        "colab": {
          "base_uri": "https://localhost:8080/",
          "height": 139
        },
        "outputId": "815affe4-7f01-47ec-e5cb-1f3852256761"
      },
      "source": [
        "dataset = df.values\n",
        "dataset"
      ],
      "execution_count": 92,
      "outputs": [
        {
          "output_type": "execute_result",
          "data": {
            "text/plain": [
              "array([[0, 2.96, 86.76, 172, 85, 2],\n",
              "       [0, 3.91, 88.05, 166, 78, 3],\n",
              "       [0, 4.42, 95.17, 156, 81, 2],\n",
              "       ...,\n",
              "       [1, 15.59, 256.5, 168, 82, 20],\n",
              "       [1, 15.92, 260.14, 142, 72, 11],\n",
              "       [1, 16.45, 261.51, 152, 74, 2]], dtype=object)"
            ]
          },
          "metadata": {
            "tags": []
          },
          "execution_count": 92
        }
      ]
    },
    {
      "cell_type": "code",
      "metadata": {
        "id": "qnfln06ovhD3",
        "colab_type": "code",
        "colab": {}
      },
      "source": [
        "# pilih 4 kolom terakhir sebagai atribut\n",
        "X = dataset[:,1:6]\n",
        "y = np.array(list(dataset[:,0]), dtype=np.float)\n",
        "# bilangan sebelum koma untuk memilih baris pada dataframe\n",
        "# bilangan setelah koma untuk memilih kolom pada dataframe"
      ],
      "execution_count": 93,
      "outputs": []
    },
    {
      "cell_type": "code",
      "metadata": {
        "id": "jEDG3HCMvh9Q",
        "colab_type": "code",
        "colab": {
          "base_uri": "https://localhost:8080/",
          "height": 139
        },
        "outputId": "5eb4856e-8757-43d8-954b-1902ab4eb1eb"
      },
      "source": [
        "# Normalization\n",
        "from sklearn import preprocessing\n",
        "min_max_scaler = preprocessing.MinMaxScaler()\n",
        "X_scale = min_max_scaler.fit_transform(X)\n",
        "X_scale"
      ],
      "execution_count": 94,
      "outputs": [
        {
          "output_type": "execute_result",
          "data": {
            "text/plain": [
              "array([[0.        , 0.        , 0.74025974, 0.63529412, 0.        ],\n",
              "       [0.07042254, 0.00738197, 0.66233766, 0.55294118, 0.01851852],\n",
              "       [0.10822832, 0.04812589, 0.53246753, 0.58823529, 0.        ],\n",
              "       ...,\n",
              "       [0.93624907, 0.97133047, 0.68831169, 0.6       , 0.33333333],\n",
              "       [0.96071164, 0.99216023, 0.35064935, 0.48235294, 0.16666667],\n",
              "       [1.        , 1.        , 0.48051948, 0.50588235, 0.        ]])"
            ]
          },
          "metadata": {
            "tags": []
          },
          "execution_count": 94
        }
      ]
    },
    {
      "cell_type": "code",
      "metadata": {
        "id": "lVu4b3TR2HRy",
        "colab_type": "code",
        "colab": {
          "base_uri": "https://localhost:8080/",
          "height": 35
        },
        "outputId": "a6527b5d-6d7b-4f1d-b8fe-958a068175b1"
      },
      "source": [
        "y"
      ],
      "execution_count": 95,
      "outputs": [
        {
          "output_type": "execute_result",
          "data": {
            "text/plain": [
              "array([0., 0., 0., ..., 1., 1., 1.])"
            ]
          },
          "metadata": {
            "tags": []
          },
          "execution_count": 95
        }
      ]
    },
    {
      "cell_type": "code",
      "metadata": {
        "id": "D-pPL1Lhvzmp",
        "colab_type": "code",
        "colab": {}
      },
      "source": [
        "# pisahkan data training dan testing\n",
        "from sklearn.model_selection import train_test_split\n",
        "X_train, X_test, Y_train, Y_test = train_test_split(X_scale, y, test_size=0.3)"
      ],
      "execution_count": 96,
      "outputs": []
    },
    {
      "cell_type": "code",
      "metadata": {
        "id": "b7v-rEMHx-sQ",
        "colab_type": "code",
        "colab": {}
      },
      "source": [
        "from keras.models import Sequential\n",
        "from keras.layers import Dense\n",
        "\n",
        "model = Sequential([    \n",
        "                    Dense(32, activation='relu', input_shape=(5,)),    \n",
        "                    Dense(32, activation='relu'),    \n",
        "                    Dense(1, activation='sigmoid'),])\n",
        "\n",
        "model.compile(optimizer='sgd',\n",
        "              loss='binary_crossentropy',\n",
        "              metrics=['accuracy'])"
      ],
      "execution_count": 97,
      "outputs": []
    },
    {
      "cell_type": "code",
      "metadata": {
        "id": "ocCXNb_GyTmf",
        "colab_type": "code",
        "colab": {
          "base_uri": "https://localhost:8080/",
          "height": 1000
        },
        "outputId": "3a6ce57c-27b3-4051-91f7-6e46414c4bfb"
      },
      "source": [
        "model.fit(X_train, Y_train, epochs=100)"
      ],
      "execution_count": 98,
      "outputs": [
        {
          "output_type": "stream",
          "text": [
            "Epoch 1/100\n",
            "219/219 [==============================] - 0s 902us/step - loss: 0.6656 - accuracy: 0.5934\n",
            "Epoch 2/100\n",
            "219/219 [==============================] - 0s 888us/step - loss: 0.6252 - accuracy: 0.8171\n",
            "Epoch 3/100\n",
            "219/219 [==============================] - 0s 968us/step - loss: 0.5745 - accuracy: 0.8851\n",
            "Epoch 4/100\n",
            "219/219 [==============================] - 0s 907us/step - loss: 0.5041 - accuracy: 0.9119\n",
            "Epoch 5/100\n",
            "219/219 [==============================] - 0s 960us/step - loss: 0.4176 - accuracy: 0.9173\n",
            "Epoch 6/100\n",
            "219/219 [==============================] - 0s 934us/step - loss: 0.3371 - accuracy: 0.9246\n",
            "Epoch 7/100\n",
            "219/219 [==============================] - 0s 946us/step - loss: 0.2778 - accuracy: 0.9254\n",
            "Epoch 8/100\n",
            "219/219 [==============================] - 0s 897us/step - loss: 0.2397 - accuracy: 0.9266\n",
            "Epoch 9/100\n",
            "219/219 [==============================] - 0s 952us/step - loss: 0.2171 - accuracy: 0.9273\n",
            "Epoch 10/100\n",
            "219/219 [==============================] - 0s 959us/step - loss: 0.2032 - accuracy: 0.9277\n",
            "Epoch 11/100\n",
            "219/219 [==============================] - 0s 938us/step - loss: 0.1948 - accuracy: 0.9273\n",
            "Epoch 12/100\n",
            "219/219 [==============================] - 0s 890us/step - loss: 0.1889 - accuracy: 0.9270\n",
            "Epoch 13/100\n",
            "219/219 [==============================] - 0s 991us/step - loss: 0.1855 - accuracy: 0.9270\n",
            "Epoch 14/100\n",
            "219/219 [==============================] - 0s 1ms/step - loss: 0.1830 - accuracy: 0.9274\n",
            "Epoch 15/100\n",
            "219/219 [==============================] - 0s 952us/step - loss: 0.1809 - accuracy: 0.9261\n",
            "Epoch 16/100\n",
            "219/219 [==============================] - 0s 892us/step - loss: 0.1804 - accuracy: 0.9274\n",
            "Epoch 17/100\n",
            "219/219 [==============================] - 0s 910us/step - loss: 0.1792 - accuracy: 0.9270\n",
            "Epoch 18/100\n",
            "219/219 [==============================] - 0s 915us/step - loss: 0.1787 - accuracy: 0.9283\n",
            "Epoch 19/100\n",
            "219/219 [==============================] - 0s 961us/step - loss: 0.1778 - accuracy: 0.9267\n",
            "Epoch 20/100\n",
            "219/219 [==============================] - 0s 917us/step - loss: 0.1775 - accuracy: 0.9271\n",
            "Epoch 21/100\n",
            "219/219 [==============================] - 0s 913us/step - loss: 0.1779 - accuracy: 0.9269\n",
            "Epoch 22/100\n",
            "219/219 [==============================] - 0s 915us/step - loss: 0.1771 - accuracy: 0.9284\n",
            "Epoch 23/100\n",
            "219/219 [==============================] - 0s 908us/step - loss: 0.1772 - accuracy: 0.9277\n",
            "Epoch 24/100\n",
            "219/219 [==============================] - 0s 951us/step - loss: 0.1772 - accuracy: 0.9281\n",
            "Epoch 25/100\n",
            "219/219 [==============================] - 0s 915us/step - loss: 0.1770 - accuracy: 0.9267\n",
            "Epoch 26/100\n",
            "219/219 [==============================] - 0s 917us/step - loss: 0.1770 - accuracy: 0.9267\n",
            "Epoch 27/100\n",
            "219/219 [==============================] - 0s 899us/step - loss: 0.1772 - accuracy: 0.9267\n",
            "Epoch 28/100\n",
            "219/219 [==============================] - 0s 959us/step - loss: 0.1769 - accuracy: 0.9261\n",
            "Epoch 29/100\n",
            "219/219 [==============================] - 0s 974us/step - loss: 0.1767 - accuracy: 0.9279\n",
            "Epoch 30/100\n",
            "219/219 [==============================] - 0s 914us/step - loss: 0.1762 - accuracy: 0.9269\n",
            "Epoch 31/100\n",
            "219/219 [==============================] - 0s 896us/step - loss: 0.1765 - accuracy: 0.9284\n",
            "Epoch 32/100\n",
            "219/219 [==============================] - 0s 947us/step - loss: 0.1767 - accuracy: 0.9284\n",
            "Epoch 33/100\n",
            "219/219 [==============================] - 0s 909us/step - loss: 0.1764 - accuracy: 0.9284\n",
            "Epoch 34/100\n",
            "219/219 [==============================] - 0s 942us/step - loss: 0.1765 - accuracy: 0.9280\n",
            "Epoch 35/100\n",
            "219/219 [==============================] - 0s 882us/step - loss: 0.1763 - accuracy: 0.9277\n",
            "Epoch 36/100\n",
            "219/219 [==============================] - 0s 901us/step - loss: 0.1765 - accuracy: 0.9276\n",
            "Epoch 37/100\n",
            "219/219 [==============================] - 0s 902us/step - loss: 0.1763 - accuracy: 0.9274\n",
            "Epoch 38/100\n",
            "219/219 [==============================] - 0s 914us/step - loss: 0.1763 - accuracy: 0.9274\n",
            "Epoch 39/100\n",
            "219/219 [==============================] - 0s 987us/step - loss: 0.1765 - accuracy: 0.9273\n",
            "Epoch 40/100\n",
            "219/219 [==============================] - 0s 897us/step - loss: 0.1763 - accuracy: 0.9276\n",
            "Epoch 41/100\n",
            "219/219 [==============================] - 0s 939us/step - loss: 0.1762 - accuracy: 0.9286\n",
            "Epoch 42/100\n",
            "219/219 [==============================] - 0s 908us/step - loss: 0.1762 - accuracy: 0.9270\n",
            "Epoch 43/100\n",
            "219/219 [==============================] - 0s 891us/step - loss: 0.1762 - accuracy: 0.9271\n",
            "Epoch 44/100\n",
            "219/219 [==============================] - 0s 985us/step - loss: 0.1761 - accuracy: 0.9267\n",
            "Epoch 45/100\n",
            "219/219 [==============================] - 0s 1ms/step - loss: 0.1761 - accuracy: 0.9280\n",
            "Epoch 46/100\n",
            "219/219 [==============================] - 0s 981us/step - loss: 0.1759 - accuracy: 0.9284\n",
            "Epoch 47/100\n",
            "219/219 [==============================] - 0s 898us/step - loss: 0.1759 - accuracy: 0.9266\n",
            "Epoch 48/100\n",
            "219/219 [==============================] - 0s 984us/step - loss: 0.1766 - accuracy: 0.9271\n",
            "Epoch 49/100\n",
            "219/219 [==============================] - 0s 901us/step - loss: 0.1765 - accuracy: 0.9261\n",
            "Epoch 50/100\n",
            "219/219 [==============================] - 0s 921us/step - loss: 0.1765 - accuracy: 0.9263\n",
            "Epoch 51/100\n",
            "219/219 [==============================] - 0s 914us/step - loss: 0.1761 - accuracy: 0.9279\n",
            "Epoch 52/100\n",
            "219/219 [==============================] - 0s 887us/step - loss: 0.1765 - accuracy: 0.9264\n",
            "Epoch 53/100\n",
            "219/219 [==============================] - 0s 974us/step - loss: 0.1757 - accuracy: 0.9279\n",
            "Epoch 54/100\n",
            "219/219 [==============================] - 0s 872us/step - loss: 0.1760 - accuracy: 0.9284\n",
            "Epoch 55/100\n",
            "219/219 [==============================] - 0s 903us/step - loss: 0.1762 - accuracy: 0.9269\n",
            "Epoch 56/100\n",
            "219/219 [==============================] - 0s 889us/step - loss: 0.1758 - accuracy: 0.9290\n",
            "Epoch 57/100\n",
            "219/219 [==============================] - 0s 917us/step - loss: 0.1757 - accuracy: 0.9293\n",
            "Epoch 58/100\n",
            "219/219 [==============================] - 0s 962us/step - loss: 0.1761 - accuracy: 0.9276\n",
            "Epoch 59/100\n",
            "219/219 [==============================] - 0s 869us/step - loss: 0.1762 - accuracy: 0.9280\n",
            "Epoch 60/100\n",
            "219/219 [==============================] - 0s 904us/step - loss: 0.1763 - accuracy: 0.9283\n",
            "Epoch 61/100\n",
            "219/219 [==============================] - 0s 886us/step - loss: 0.1762 - accuracy: 0.9269\n",
            "Epoch 62/100\n",
            "219/219 [==============================] - 0s 911us/step - loss: 0.1758 - accuracy: 0.9287\n",
            "Epoch 63/100\n",
            "219/219 [==============================] - 0s 955us/step - loss: 0.1761 - accuracy: 0.9263\n",
            "Epoch 64/100\n",
            "219/219 [==============================] - 0s 957us/step - loss: 0.1760 - accuracy: 0.9267\n",
            "Epoch 65/100\n",
            "219/219 [==============================] - 0s 930us/step - loss: 0.1754 - accuracy: 0.9306\n",
            "Epoch 66/100\n",
            "219/219 [==============================] - 0s 926us/step - loss: 0.1761 - accuracy: 0.9266\n",
            "Epoch 67/100\n",
            "219/219 [==============================] - 0s 928us/step - loss: 0.1755 - accuracy: 0.9281\n",
            "Epoch 68/100\n",
            "219/219 [==============================] - 0s 910us/step - loss: 0.1760 - accuracy: 0.9277\n",
            "Epoch 69/100\n",
            "219/219 [==============================] - 0s 954us/step - loss: 0.1760 - accuracy: 0.9281\n",
            "Epoch 70/100\n",
            "219/219 [==============================] - 0s 922us/step - loss: 0.1761 - accuracy: 0.9279\n",
            "Epoch 71/100\n",
            "219/219 [==============================] - 0s 898us/step - loss: 0.1758 - accuracy: 0.9266\n",
            "Epoch 72/100\n",
            "219/219 [==============================] - 0s 893us/step - loss: 0.1759 - accuracy: 0.9271\n",
            "Epoch 73/100\n",
            "219/219 [==============================] - 0s 965us/step - loss: 0.1754 - accuracy: 0.9270\n",
            "Epoch 74/100\n",
            "219/219 [==============================] - 0s 919us/step - loss: 0.1753 - accuracy: 0.9263\n",
            "Epoch 75/100\n",
            "219/219 [==============================] - 0s 875us/step - loss: 0.1755 - accuracy: 0.9283\n",
            "Epoch 76/100\n",
            "219/219 [==============================] - 0s 890us/step - loss: 0.1760 - accuracy: 0.9276\n",
            "Epoch 77/100\n",
            "219/219 [==============================] - 0s 915us/step - loss: 0.1754 - accuracy: 0.9283\n",
            "Epoch 78/100\n",
            "219/219 [==============================] - 0s 983us/step - loss: 0.1757 - accuracy: 0.9263\n",
            "Epoch 79/100\n",
            "219/219 [==============================] - 0s 876us/step - loss: 0.1756 - accuracy: 0.9270\n",
            "Epoch 80/100\n",
            "219/219 [==============================] - 0s 903us/step - loss: 0.1760 - accuracy: 0.9276\n",
            "Epoch 81/100\n",
            "219/219 [==============================] - 0s 949us/step - loss: 0.1754 - accuracy: 0.9271\n",
            "Epoch 82/100\n",
            "219/219 [==============================] - 0s 978us/step - loss: 0.1754 - accuracy: 0.9276\n",
            "Epoch 83/100\n",
            "219/219 [==============================] - 0s 935us/step - loss: 0.1754 - accuracy: 0.9276\n",
            "Epoch 84/100\n",
            "219/219 [==============================] - 0s 889us/step - loss: 0.1752 - accuracy: 0.9289\n",
            "Epoch 85/100\n",
            "219/219 [==============================] - 0s 946us/step - loss: 0.1752 - accuracy: 0.9276\n",
            "Epoch 86/100\n",
            "219/219 [==============================] - 0s 897us/step - loss: 0.1757 - accuracy: 0.9283\n",
            "Epoch 87/100\n",
            "219/219 [==============================] - 0s 875us/step - loss: 0.1752 - accuracy: 0.9271\n",
            "Epoch 88/100\n",
            "219/219 [==============================] - 0s 905us/step - loss: 0.1753 - accuracy: 0.9273\n",
            "Epoch 89/100\n",
            "219/219 [==============================] - 0s 884us/step - loss: 0.1754 - accuracy: 0.9273\n",
            "Epoch 90/100\n",
            "219/219 [==============================] - 0s 979us/step - loss: 0.1752 - accuracy: 0.9286\n",
            "Epoch 91/100\n",
            "219/219 [==============================] - 0s 888us/step - loss: 0.1752 - accuracy: 0.9266\n",
            "Epoch 92/100\n",
            "219/219 [==============================] - 0s 903us/step - loss: 0.1753 - accuracy: 0.9280\n",
            "Epoch 93/100\n",
            "219/219 [==============================] - 0s 976us/step - loss: 0.1753 - accuracy: 0.9281\n",
            "Epoch 94/100\n",
            "219/219 [==============================] - 0s 906us/step - loss: 0.1755 - accuracy: 0.9273\n",
            "Epoch 95/100\n",
            "219/219 [==============================] - 0s 982us/step - loss: 0.1753 - accuracy: 0.9283\n",
            "Epoch 96/100\n",
            "219/219 [==============================] - 0s 916us/step - loss: 0.1752 - accuracy: 0.9296\n",
            "Epoch 97/100\n",
            "219/219 [==============================] - 0s 930us/step - loss: 0.1752 - accuracy: 0.9263\n",
            "Epoch 98/100\n",
            "219/219 [==============================] - 0s 965us/step - loss: 0.1750 - accuracy: 0.9266\n",
            "Epoch 99/100\n",
            "219/219 [==============================] - 0s 902us/step - loss: 0.1746 - accuracy: 0.9261\n",
            "Epoch 100/100\n",
            "219/219 [==============================] - 0s 910us/step - loss: 0.1750 - accuracy: 0.9289\n"
          ],
          "name": "stdout"
        },
        {
          "output_type": "execute_result",
          "data": {
            "text/plain": [
              "<tensorflow.python.keras.callbacks.History at 0x7f817e5df550>"
            ]
          },
          "metadata": {
            "tags": []
          },
          "execution_count": 98
        }
      ]
    },
    {
      "cell_type": "code",
      "metadata": {
        "id": "fo3bPiig0nGr",
        "colab_type": "code",
        "colab": {
          "base_uri": "https://localhost:8080/",
          "height": 52
        },
        "outputId": "1394a5a4-c997-4a7e-bbf0-296b821586d7"
      },
      "source": [
        "model.evaluate(X_test, Y_test)\n",
        "# elemen pertama adalah loss dan elemen kedua adalah akurasi"
      ],
      "execution_count": 99,
      "outputs": [
        {
          "output_type": "stream",
          "text": [
            "94/94 [==============================] - 0s 798us/step - loss: 0.1858 - accuracy: 0.9260\n"
          ],
          "name": "stdout"
        },
        {
          "output_type": "execute_result",
          "data": {
            "text/plain": [
              "[0.18575893342494965, 0.9259999990463257]"
            ]
          },
          "metadata": {
            "tags": []
          },
          "execution_count": 99
        }
      ]
    },
    {
      "cell_type": "markdown",
      "metadata": {
        "id": "YFsAIUcZ9gUE",
        "colab_type": "text"
      },
      "source": [
        "# Bangun Model untuk Klasifikasi Dua Kelas"
      ]
    },
    {
      "cell_type": "code",
      "metadata": {
        "id": "DvnknRor9fTt",
        "colab_type": "code",
        "colab": {}
      },
      "source": [
        "import pandas as pd\n",
        "from sklearn import preprocessing\n",
        "from sklearn.model_selection import train_test_split\n",
        "from keras.models import Sequential\n",
        "from keras.layers import Dense"
      ],
      "execution_count": 106,
      "outputs": []
    },
    {
      "cell_type": "code",
      "metadata": {
        "id": "hIH8Vmpx9oh_",
        "colab_type": "code",
        "colab": {
          "base_uri": "https://localhost:8080/",
          "height": 415
        },
        "outputId": "c6478b45-5c43-428d-dffe-40875fe528d6"
      },
      "source": [
        "df = pd.read_csv('Iris.csv')\n",
        "df"
      ],
      "execution_count": 107,
      "outputs": [
        {
          "output_type": "execute_result",
          "data": {
            "text/html": [
              "<div>\n",
              "<style scoped>\n",
              "    .dataframe tbody tr th:only-of-type {\n",
              "        vertical-align: middle;\n",
              "    }\n",
              "\n",
              "    .dataframe tbody tr th {\n",
              "        vertical-align: top;\n",
              "    }\n",
              "\n",
              "    .dataframe thead th {\n",
              "        text-align: right;\n",
              "    }\n",
              "</style>\n",
              "<table border=\"1\" class=\"dataframe\">\n",
              "  <thead>\n",
              "    <tr style=\"text-align: right;\">\n",
              "      <th></th>\n",
              "      <th>Id</th>\n",
              "      <th>SepalLengthCm</th>\n",
              "      <th>SepalWidthCm</th>\n",
              "      <th>PetalLengthCm</th>\n",
              "      <th>PetalWidthCm</th>\n",
              "      <th>Species</th>\n",
              "    </tr>\n",
              "  </thead>\n",
              "  <tbody>\n",
              "    <tr>\n",
              "      <th>0</th>\n",
              "      <td>1</td>\n",
              "      <td>5.1</td>\n",
              "      <td>3.5</td>\n",
              "      <td>1.4</td>\n",
              "      <td>0.2</td>\n",
              "      <td>Iris-setosa</td>\n",
              "    </tr>\n",
              "    <tr>\n",
              "      <th>1</th>\n",
              "      <td>2</td>\n",
              "      <td>4.9</td>\n",
              "      <td>3.0</td>\n",
              "      <td>1.4</td>\n",
              "      <td>0.2</td>\n",
              "      <td>Iris-setosa</td>\n",
              "    </tr>\n",
              "    <tr>\n",
              "      <th>2</th>\n",
              "      <td>3</td>\n",
              "      <td>4.7</td>\n",
              "      <td>3.2</td>\n",
              "      <td>1.3</td>\n",
              "      <td>0.2</td>\n",
              "      <td>Iris-setosa</td>\n",
              "    </tr>\n",
              "    <tr>\n",
              "      <th>3</th>\n",
              "      <td>4</td>\n",
              "      <td>4.6</td>\n",
              "      <td>3.1</td>\n",
              "      <td>1.5</td>\n",
              "      <td>0.2</td>\n",
              "      <td>Iris-setosa</td>\n",
              "    </tr>\n",
              "    <tr>\n",
              "      <th>4</th>\n",
              "      <td>5</td>\n",
              "      <td>5.0</td>\n",
              "      <td>3.6</td>\n",
              "      <td>1.4</td>\n",
              "      <td>0.2</td>\n",
              "      <td>Iris-setosa</td>\n",
              "    </tr>\n",
              "    <tr>\n",
              "      <th>...</th>\n",
              "      <td>...</td>\n",
              "      <td>...</td>\n",
              "      <td>...</td>\n",
              "      <td>...</td>\n",
              "      <td>...</td>\n",
              "      <td>...</td>\n",
              "    </tr>\n",
              "    <tr>\n",
              "      <th>145</th>\n",
              "      <td>146</td>\n",
              "      <td>6.7</td>\n",
              "      <td>3.0</td>\n",
              "      <td>5.2</td>\n",
              "      <td>2.3</td>\n",
              "      <td>Iris-virginica</td>\n",
              "    </tr>\n",
              "    <tr>\n",
              "      <th>146</th>\n",
              "      <td>147</td>\n",
              "      <td>6.3</td>\n",
              "      <td>2.5</td>\n",
              "      <td>5.0</td>\n",
              "      <td>1.9</td>\n",
              "      <td>Iris-virginica</td>\n",
              "    </tr>\n",
              "    <tr>\n",
              "      <th>147</th>\n",
              "      <td>148</td>\n",
              "      <td>6.5</td>\n",
              "      <td>3.0</td>\n",
              "      <td>5.2</td>\n",
              "      <td>2.0</td>\n",
              "      <td>Iris-virginica</td>\n",
              "    </tr>\n",
              "    <tr>\n",
              "      <th>148</th>\n",
              "      <td>149</td>\n",
              "      <td>6.2</td>\n",
              "      <td>3.4</td>\n",
              "      <td>5.4</td>\n",
              "      <td>2.3</td>\n",
              "      <td>Iris-virginica</td>\n",
              "    </tr>\n",
              "    <tr>\n",
              "      <th>149</th>\n",
              "      <td>150</td>\n",
              "      <td>5.9</td>\n",
              "      <td>3.0</td>\n",
              "      <td>5.1</td>\n",
              "      <td>1.8</td>\n",
              "      <td>Iris-virginica</td>\n",
              "    </tr>\n",
              "  </tbody>\n",
              "</table>\n",
              "<p>150 rows × 6 columns</p>\n",
              "</div>"
            ],
            "text/plain": [
              "      Id  SepalLengthCm  ...  PetalWidthCm         Species\n",
              "0      1            5.1  ...           0.2     Iris-setosa\n",
              "1      2            4.9  ...           0.2     Iris-setosa\n",
              "2      3            4.7  ...           0.2     Iris-setosa\n",
              "3      4            4.6  ...           0.2     Iris-setosa\n",
              "4      5            5.0  ...           0.2     Iris-setosa\n",
              "..   ...            ...  ...           ...             ...\n",
              "145  146            6.7  ...           2.3  Iris-virginica\n",
              "146  147            6.3  ...           1.9  Iris-virginica\n",
              "147  148            6.5  ...           2.0  Iris-virginica\n",
              "148  149            6.2  ...           2.3  Iris-virginica\n",
              "149  150            5.9  ...           1.8  Iris-virginica\n",
              "\n",
              "[150 rows x 6 columns]"
            ]
          },
          "metadata": {
            "tags": []
          },
          "execution_count": 107
        }
      ]
    },
    {
      "cell_type": "code",
      "metadata": {
        "id": "OFZi8Rda9yTL",
        "colab_type": "code",
        "colab": {}
      },
      "source": [
        "df = df.drop(columns='Id')"
      ],
      "execution_count": 108,
      "outputs": []
    },
    {
      "cell_type": "code",
      "metadata": {
        "id": "7vpkGitu93Er",
        "colab_type": "code",
        "colab": {
          "base_uri": "https://localhost:8080/",
          "height": 415
        },
        "outputId": "e59ea8cf-2bee-419b-81e9-8dc4a2870f28"
      },
      "source": [
        "category = pd.get_dummies(df.Species)\n",
        "category"
      ],
      "execution_count": 109,
      "outputs": [
        {
          "output_type": "execute_result",
          "data": {
            "text/html": [
              "<div>\n",
              "<style scoped>\n",
              "    .dataframe tbody tr th:only-of-type {\n",
              "        vertical-align: middle;\n",
              "    }\n",
              "\n",
              "    .dataframe tbody tr th {\n",
              "        vertical-align: top;\n",
              "    }\n",
              "\n",
              "    .dataframe thead th {\n",
              "        text-align: right;\n",
              "    }\n",
              "</style>\n",
              "<table border=\"1\" class=\"dataframe\">\n",
              "  <thead>\n",
              "    <tr style=\"text-align: right;\">\n",
              "      <th></th>\n",
              "      <th>Iris-setosa</th>\n",
              "      <th>Iris-versicolor</th>\n",
              "      <th>Iris-virginica</th>\n",
              "    </tr>\n",
              "  </thead>\n",
              "  <tbody>\n",
              "    <tr>\n",
              "      <th>0</th>\n",
              "      <td>1</td>\n",
              "      <td>0</td>\n",
              "      <td>0</td>\n",
              "    </tr>\n",
              "    <tr>\n",
              "      <th>1</th>\n",
              "      <td>1</td>\n",
              "      <td>0</td>\n",
              "      <td>0</td>\n",
              "    </tr>\n",
              "    <tr>\n",
              "      <th>2</th>\n",
              "      <td>1</td>\n",
              "      <td>0</td>\n",
              "      <td>0</td>\n",
              "    </tr>\n",
              "    <tr>\n",
              "      <th>3</th>\n",
              "      <td>1</td>\n",
              "      <td>0</td>\n",
              "      <td>0</td>\n",
              "    </tr>\n",
              "    <tr>\n",
              "      <th>4</th>\n",
              "      <td>1</td>\n",
              "      <td>0</td>\n",
              "      <td>0</td>\n",
              "    </tr>\n",
              "    <tr>\n",
              "      <th>...</th>\n",
              "      <td>...</td>\n",
              "      <td>...</td>\n",
              "      <td>...</td>\n",
              "    </tr>\n",
              "    <tr>\n",
              "      <th>145</th>\n",
              "      <td>0</td>\n",
              "      <td>0</td>\n",
              "      <td>1</td>\n",
              "    </tr>\n",
              "    <tr>\n",
              "      <th>146</th>\n",
              "      <td>0</td>\n",
              "      <td>0</td>\n",
              "      <td>1</td>\n",
              "    </tr>\n",
              "    <tr>\n",
              "      <th>147</th>\n",
              "      <td>0</td>\n",
              "      <td>0</td>\n",
              "      <td>1</td>\n",
              "    </tr>\n",
              "    <tr>\n",
              "      <th>148</th>\n",
              "      <td>0</td>\n",
              "      <td>0</td>\n",
              "      <td>1</td>\n",
              "    </tr>\n",
              "    <tr>\n",
              "      <th>149</th>\n",
              "      <td>0</td>\n",
              "      <td>0</td>\n",
              "      <td>1</td>\n",
              "    </tr>\n",
              "  </tbody>\n",
              "</table>\n",
              "<p>150 rows × 3 columns</p>\n",
              "</div>"
            ],
            "text/plain": [
              "     Iris-setosa  Iris-versicolor  Iris-virginica\n",
              "0              1                0               0\n",
              "1              1                0               0\n",
              "2              1                0               0\n",
              "3              1                0               0\n",
              "4              1                0               0\n",
              "..           ...              ...             ...\n",
              "145            0                0               1\n",
              "146            0                0               1\n",
              "147            0                0               1\n",
              "148            0                0               1\n",
              "149            0                0               1\n",
              "\n",
              "[150 rows x 3 columns]"
            ]
          },
          "metadata": {
            "tags": []
          },
          "execution_count": 109
        }
      ]
    },
    {
      "cell_type": "code",
      "metadata": {
        "id": "hX_xrg7X-DLy",
        "colab_type": "code",
        "colab": {
          "base_uri": "https://localhost:8080/",
          "height": 415
        },
        "outputId": "ae83c6bb-9300-4178-a2a7-da1bcd1ae9f3"
      },
      "source": [
        "new_df = pd.concat([df, category], axis=1)\n",
        "new_df = new_df.drop(columns='Species')\n",
        "new_df"
      ],
      "execution_count": 110,
      "outputs": [
        {
          "output_type": "execute_result",
          "data": {
            "text/html": [
              "<div>\n",
              "<style scoped>\n",
              "    .dataframe tbody tr th:only-of-type {\n",
              "        vertical-align: middle;\n",
              "    }\n",
              "\n",
              "    .dataframe tbody tr th {\n",
              "        vertical-align: top;\n",
              "    }\n",
              "\n",
              "    .dataframe thead th {\n",
              "        text-align: right;\n",
              "    }\n",
              "</style>\n",
              "<table border=\"1\" class=\"dataframe\">\n",
              "  <thead>\n",
              "    <tr style=\"text-align: right;\">\n",
              "      <th></th>\n",
              "      <th>SepalLengthCm</th>\n",
              "      <th>SepalWidthCm</th>\n",
              "      <th>PetalLengthCm</th>\n",
              "      <th>PetalWidthCm</th>\n",
              "      <th>Iris-setosa</th>\n",
              "      <th>Iris-versicolor</th>\n",
              "      <th>Iris-virginica</th>\n",
              "    </tr>\n",
              "  </thead>\n",
              "  <tbody>\n",
              "    <tr>\n",
              "      <th>0</th>\n",
              "      <td>5.1</td>\n",
              "      <td>3.5</td>\n",
              "      <td>1.4</td>\n",
              "      <td>0.2</td>\n",
              "      <td>1</td>\n",
              "      <td>0</td>\n",
              "      <td>0</td>\n",
              "    </tr>\n",
              "    <tr>\n",
              "      <th>1</th>\n",
              "      <td>4.9</td>\n",
              "      <td>3.0</td>\n",
              "      <td>1.4</td>\n",
              "      <td>0.2</td>\n",
              "      <td>1</td>\n",
              "      <td>0</td>\n",
              "      <td>0</td>\n",
              "    </tr>\n",
              "    <tr>\n",
              "      <th>2</th>\n",
              "      <td>4.7</td>\n",
              "      <td>3.2</td>\n",
              "      <td>1.3</td>\n",
              "      <td>0.2</td>\n",
              "      <td>1</td>\n",
              "      <td>0</td>\n",
              "      <td>0</td>\n",
              "    </tr>\n",
              "    <tr>\n",
              "      <th>3</th>\n",
              "      <td>4.6</td>\n",
              "      <td>3.1</td>\n",
              "      <td>1.5</td>\n",
              "      <td>0.2</td>\n",
              "      <td>1</td>\n",
              "      <td>0</td>\n",
              "      <td>0</td>\n",
              "    </tr>\n",
              "    <tr>\n",
              "      <th>4</th>\n",
              "      <td>5.0</td>\n",
              "      <td>3.6</td>\n",
              "      <td>1.4</td>\n",
              "      <td>0.2</td>\n",
              "      <td>1</td>\n",
              "      <td>0</td>\n",
              "      <td>0</td>\n",
              "    </tr>\n",
              "    <tr>\n",
              "      <th>...</th>\n",
              "      <td>...</td>\n",
              "      <td>...</td>\n",
              "      <td>...</td>\n",
              "      <td>...</td>\n",
              "      <td>...</td>\n",
              "      <td>...</td>\n",
              "      <td>...</td>\n",
              "    </tr>\n",
              "    <tr>\n",
              "      <th>145</th>\n",
              "      <td>6.7</td>\n",
              "      <td>3.0</td>\n",
              "      <td>5.2</td>\n",
              "      <td>2.3</td>\n",
              "      <td>0</td>\n",
              "      <td>0</td>\n",
              "      <td>1</td>\n",
              "    </tr>\n",
              "    <tr>\n",
              "      <th>146</th>\n",
              "      <td>6.3</td>\n",
              "      <td>2.5</td>\n",
              "      <td>5.0</td>\n",
              "      <td>1.9</td>\n",
              "      <td>0</td>\n",
              "      <td>0</td>\n",
              "      <td>1</td>\n",
              "    </tr>\n",
              "    <tr>\n",
              "      <th>147</th>\n",
              "      <td>6.5</td>\n",
              "      <td>3.0</td>\n",
              "      <td>5.2</td>\n",
              "      <td>2.0</td>\n",
              "      <td>0</td>\n",
              "      <td>0</td>\n",
              "      <td>1</td>\n",
              "    </tr>\n",
              "    <tr>\n",
              "      <th>148</th>\n",
              "      <td>6.2</td>\n",
              "      <td>3.4</td>\n",
              "      <td>5.4</td>\n",
              "      <td>2.3</td>\n",
              "      <td>0</td>\n",
              "      <td>0</td>\n",
              "      <td>1</td>\n",
              "    </tr>\n",
              "    <tr>\n",
              "      <th>149</th>\n",
              "      <td>5.9</td>\n",
              "      <td>3.0</td>\n",
              "      <td>5.1</td>\n",
              "      <td>1.8</td>\n",
              "      <td>0</td>\n",
              "      <td>0</td>\n",
              "      <td>1</td>\n",
              "    </tr>\n",
              "  </tbody>\n",
              "</table>\n",
              "<p>150 rows × 7 columns</p>\n",
              "</div>"
            ],
            "text/plain": [
              "     SepalLengthCm  SepalWidthCm  ...  Iris-versicolor  Iris-virginica\n",
              "0              5.1           3.5  ...                0               0\n",
              "1              4.9           3.0  ...                0               0\n",
              "2              4.7           3.2  ...                0               0\n",
              "3              4.6           3.1  ...                0               0\n",
              "4              5.0           3.6  ...                0               0\n",
              "..             ...           ...  ...              ...             ...\n",
              "145            6.7           3.0  ...                0               1\n",
              "146            6.3           2.5  ...                0               1\n",
              "147            6.5           3.0  ...                0               1\n",
              "148            6.2           3.4  ...                0               1\n",
              "149            5.9           3.0  ...                0               1\n",
              "\n",
              "[150 rows x 7 columns]"
            ]
          },
          "metadata": {
            "tags": []
          },
          "execution_count": 110
        }
      ]
    },
    {
      "cell_type": "code",
      "metadata": {
        "id": "r9omyEgb-HL1",
        "colab_type": "code",
        "colab": {
          "base_uri": "https://localhost:8080/",
          "height": 139
        },
        "outputId": "ab067a2c-554a-46c0-e2a7-93b48d51f864"
      },
      "source": [
        "dataset = new_df.values\n",
        "dataset"
      ],
      "execution_count": 111,
      "outputs": [
        {
          "output_type": "execute_result",
          "data": {
            "text/plain": [
              "array([[5.1, 3.5, 1.4, ..., 1. , 0. , 0. ],\n",
              "       [4.9, 3. , 1.4, ..., 1. , 0. , 0. ],\n",
              "       [4.7, 3.2, 1.3, ..., 1. , 0. , 0. ],\n",
              "       ...,\n",
              "       [6.5, 3. , 5.2, ..., 0. , 0. , 1. ],\n",
              "       [6.2, 3.4, 5.4, ..., 0. , 0. , 1. ],\n",
              "       [5.9, 3. , 5.1, ..., 0. , 0. , 1. ]])"
            ]
          },
          "metadata": {
            "tags": []
          },
          "execution_count": 111
        }
      ]
    },
    {
      "cell_type": "code",
      "metadata": {
        "id": "ijq943IG-LRy",
        "colab_type": "code",
        "colab": {}
      },
      "source": [
        "# Pilih 4 kolom pertama untuk dijadikan sebagai atribut\n",
        "X = dataset[:,0:4]\n",
        "# Pilih 3 kolom terakhir sebagai label\n",
        "y = dataset[:,4:7]"
      ],
      "execution_count": 112,
      "outputs": []
    },
    {
      "cell_type": "code",
      "metadata": {
        "id": "jfZbiJ3e-N2U",
        "colab_type": "code",
        "colab": {
          "base_uri": "https://localhost:8080/",
          "height": 1000
        },
        "outputId": "ee291de2-9134-4d9b-9db3-034d37c84228"
      },
      "source": [
        "# Normalize\n",
        "min_max_scaler = preprocessing.MinMaxScaler()\n",
        "X_scale = min_max_scaler.fit_transform(X)\n",
        "X_scale"
      ],
      "execution_count": 113,
      "outputs": [
        {
          "output_type": "execute_result",
          "data": {
            "text/plain": [
              "array([[0.22222222, 0.625     , 0.06779661, 0.04166667],\n",
              "       [0.16666667, 0.41666667, 0.06779661, 0.04166667],\n",
              "       [0.11111111, 0.5       , 0.05084746, 0.04166667],\n",
              "       [0.08333333, 0.45833333, 0.08474576, 0.04166667],\n",
              "       [0.19444444, 0.66666667, 0.06779661, 0.04166667],\n",
              "       [0.30555556, 0.79166667, 0.11864407, 0.125     ],\n",
              "       [0.08333333, 0.58333333, 0.06779661, 0.08333333],\n",
              "       [0.19444444, 0.58333333, 0.08474576, 0.04166667],\n",
              "       [0.02777778, 0.375     , 0.06779661, 0.04166667],\n",
              "       [0.16666667, 0.45833333, 0.08474576, 0.        ],\n",
              "       [0.30555556, 0.70833333, 0.08474576, 0.04166667],\n",
              "       [0.13888889, 0.58333333, 0.10169492, 0.04166667],\n",
              "       [0.13888889, 0.41666667, 0.06779661, 0.        ],\n",
              "       [0.        , 0.41666667, 0.01694915, 0.        ],\n",
              "       [0.41666667, 0.83333333, 0.03389831, 0.04166667],\n",
              "       [0.38888889, 1.        , 0.08474576, 0.125     ],\n",
              "       [0.30555556, 0.79166667, 0.05084746, 0.125     ],\n",
              "       [0.22222222, 0.625     , 0.06779661, 0.08333333],\n",
              "       [0.38888889, 0.75      , 0.11864407, 0.08333333],\n",
              "       [0.22222222, 0.75      , 0.08474576, 0.08333333],\n",
              "       [0.30555556, 0.58333333, 0.11864407, 0.04166667],\n",
              "       [0.22222222, 0.70833333, 0.08474576, 0.125     ],\n",
              "       [0.08333333, 0.66666667, 0.        , 0.04166667],\n",
              "       [0.22222222, 0.54166667, 0.11864407, 0.16666667],\n",
              "       [0.13888889, 0.58333333, 0.15254237, 0.04166667],\n",
              "       [0.19444444, 0.41666667, 0.10169492, 0.04166667],\n",
              "       [0.19444444, 0.58333333, 0.10169492, 0.125     ],\n",
              "       [0.25      , 0.625     , 0.08474576, 0.04166667],\n",
              "       [0.25      , 0.58333333, 0.06779661, 0.04166667],\n",
              "       [0.11111111, 0.5       , 0.10169492, 0.04166667],\n",
              "       [0.13888889, 0.45833333, 0.10169492, 0.04166667],\n",
              "       [0.30555556, 0.58333333, 0.08474576, 0.125     ],\n",
              "       [0.25      , 0.875     , 0.08474576, 0.        ],\n",
              "       [0.33333333, 0.91666667, 0.06779661, 0.04166667],\n",
              "       [0.16666667, 0.45833333, 0.08474576, 0.        ],\n",
              "       [0.19444444, 0.5       , 0.03389831, 0.04166667],\n",
              "       [0.33333333, 0.625     , 0.05084746, 0.04166667],\n",
              "       [0.16666667, 0.45833333, 0.08474576, 0.        ],\n",
              "       [0.02777778, 0.41666667, 0.05084746, 0.04166667],\n",
              "       [0.22222222, 0.58333333, 0.08474576, 0.04166667],\n",
              "       [0.19444444, 0.625     , 0.05084746, 0.08333333],\n",
              "       [0.05555556, 0.125     , 0.05084746, 0.08333333],\n",
              "       [0.02777778, 0.5       , 0.05084746, 0.04166667],\n",
              "       [0.19444444, 0.625     , 0.10169492, 0.20833333],\n",
              "       [0.22222222, 0.75      , 0.15254237, 0.125     ],\n",
              "       [0.13888889, 0.41666667, 0.06779661, 0.08333333],\n",
              "       [0.22222222, 0.75      , 0.10169492, 0.04166667],\n",
              "       [0.08333333, 0.5       , 0.06779661, 0.04166667],\n",
              "       [0.27777778, 0.70833333, 0.08474576, 0.04166667],\n",
              "       [0.19444444, 0.54166667, 0.06779661, 0.04166667],\n",
              "       [0.75      , 0.5       , 0.62711864, 0.54166667],\n",
              "       [0.58333333, 0.5       , 0.59322034, 0.58333333],\n",
              "       [0.72222222, 0.45833333, 0.66101695, 0.58333333],\n",
              "       [0.33333333, 0.125     , 0.50847458, 0.5       ],\n",
              "       [0.61111111, 0.33333333, 0.61016949, 0.58333333],\n",
              "       [0.38888889, 0.33333333, 0.59322034, 0.5       ],\n",
              "       [0.55555556, 0.54166667, 0.62711864, 0.625     ],\n",
              "       [0.16666667, 0.16666667, 0.38983051, 0.375     ],\n",
              "       [0.63888889, 0.375     , 0.61016949, 0.5       ],\n",
              "       [0.25      , 0.29166667, 0.49152542, 0.54166667],\n",
              "       [0.19444444, 0.        , 0.42372881, 0.375     ],\n",
              "       [0.44444444, 0.41666667, 0.54237288, 0.58333333],\n",
              "       [0.47222222, 0.08333333, 0.50847458, 0.375     ],\n",
              "       [0.5       , 0.375     , 0.62711864, 0.54166667],\n",
              "       [0.36111111, 0.375     , 0.44067797, 0.5       ],\n",
              "       [0.66666667, 0.45833333, 0.57627119, 0.54166667],\n",
              "       [0.36111111, 0.41666667, 0.59322034, 0.58333333],\n",
              "       [0.41666667, 0.29166667, 0.52542373, 0.375     ],\n",
              "       [0.52777778, 0.08333333, 0.59322034, 0.58333333],\n",
              "       [0.36111111, 0.20833333, 0.49152542, 0.41666667],\n",
              "       [0.44444444, 0.5       , 0.6440678 , 0.70833333],\n",
              "       [0.5       , 0.33333333, 0.50847458, 0.5       ],\n",
              "       [0.55555556, 0.20833333, 0.66101695, 0.58333333],\n",
              "       [0.5       , 0.33333333, 0.62711864, 0.45833333],\n",
              "       [0.58333333, 0.375     , 0.55932203, 0.5       ],\n",
              "       [0.63888889, 0.41666667, 0.57627119, 0.54166667],\n",
              "       [0.69444444, 0.33333333, 0.6440678 , 0.54166667],\n",
              "       [0.66666667, 0.41666667, 0.6779661 , 0.66666667],\n",
              "       [0.47222222, 0.375     , 0.59322034, 0.58333333],\n",
              "       [0.38888889, 0.25      , 0.42372881, 0.375     ],\n",
              "       [0.33333333, 0.16666667, 0.47457627, 0.41666667],\n",
              "       [0.33333333, 0.16666667, 0.45762712, 0.375     ],\n",
              "       [0.41666667, 0.29166667, 0.49152542, 0.45833333],\n",
              "       [0.47222222, 0.29166667, 0.69491525, 0.625     ],\n",
              "       [0.30555556, 0.41666667, 0.59322034, 0.58333333],\n",
              "       [0.47222222, 0.58333333, 0.59322034, 0.625     ],\n",
              "       [0.66666667, 0.45833333, 0.62711864, 0.58333333],\n",
              "       [0.55555556, 0.125     , 0.57627119, 0.5       ],\n",
              "       [0.36111111, 0.41666667, 0.52542373, 0.5       ],\n",
              "       [0.33333333, 0.20833333, 0.50847458, 0.5       ],\n",
              "       [0.33333333, 0.25      , 0.57627119, 0.45833333],\n",
              "       [0.5       , 0.41666667, 0.61016949, 0.54166667],\n",
              "       [0.41666667, 0.25      , 0.50847458, 0.45833333],\n",
              "       [0.19444444, 0.125     , 0.38983051, 0.375     ],\n",
              "       [0.36111111, 0.29166667, 0.54237288, 0.5       ],\n",
              "       [0.38888889, 0.41666667, 0.54237288, 0.45833333],\n",
              "       [0.38888889, 0.375     , 0.54237288, 0.5       ],\n",
              "       [0.52777778, 0.375     , 0.55932203, 0.5       ],\n",
              "       [0.22222222, 0.20833333, 0.33898305, 0.41666667],\n",
              "       [0.38888889, 0.33333333, 0.52542373, 0.5       ],\n",
              "       [0.55555556, 0.54166667, 0.84745763, 1.        ],\n",
              "       [0.41666667, 0.29166667, 0.69491525, 0.75      ],\n",
              "       [0.77777778, 0.41666667, 0.83050847, 0.83333333],\n",
              "       [0.55555556, 0.375     , 0.77966102, 0.70833333],\n",
              "       [0.61111111, 0.41666667, 0.81355932, 0.875     ],\n",
              "       [0.91666667, 0.41666667, 0.94915254, 0.83333333],\n",
              "       [0.16666667, 0.20833333, 0.59322034, 0.66666667],\n",
              "       [0.83333333, 0.375     , 0.89830508, 0.70833333],\n",
              "       [0.66666667, 0.20833333, 0.81355932, 0.70833333],\n",
              "       [0.80555556, 0.66666667, 0.86440678, 1.        ],\n",
              "       [0.61111111, 0.5       , 0.69491525, 0.79166667],\n",
              "       [0.58333333, 0.29166667, 0.72881356, 0.75      ],\n",
              "       [0.69444444, 0.41666667, 0.76271186, 0.83333333],\n",
              "       [0.38888889, 0.20833333, 0.6779661 , 0.79166667],\n",
              "       [0.41666667, 0.33333333, 0.69491525, 0.95833333],\n",
              "       [0.58333333, 0.5       , 0.72881356, 0.91666667],\n",
              "       [0.61111111, 0.41666667, 0.76271186, 0.70833333],\n",
              "       [0.94444444, 0.75      , 0.96610169, 0.875     ],\n",
              "       [0.94444444, 0.25      , 1.        , 0.91666667],\n",
              "       [0.47222222, 0.08333333, 0.6779661 , 0.58333333],\n",
              "       [0.72222222, 0.5       , 0.79661017, 0.91666667],\n",
              "       [0.36111111, 0.33333333, 0.66101695, 0.79166667],\n",
              "       [0.94444444, 0.33333333, 0.96610169, 0.79166667],\n",
              "       [0.55555556, 0.29166667, 0.66101695, 0.70833333],\n",
              "       [0.66666667, 0.54166667, 0.79661017, 0.83333333],\n",
              "       [0.80555556, 0.5       , 0.84745763, 0.70833333],\n",
              "       [0.52777778, 0.33333333, 0.6440678 , 0.70833333],\n",
              "       [0.5       , 0.41666667, 0.66101695, 0.70833333],\n",
              "       [0.58333333, 0.33333333, 0.77966102, 0.83333333],\n",
              "       [0.80555556, 0.41666667, 0.81355932, 0.625     ],\n",
              "       [0.86111111, 0.33333333, 0.86440678, 0.75      ],\n",
              "       [1.        , 0.75      , 0.91525424, 0.79166667],\n",
              "       [0.58333333, 0.33333333, 0.77966102, 0.875     ],\n",
              "       [0.55555556, 0.33333333, 0.69491525, 0.58333333],\n",
              "       [0.5       , 0.25      , 0.77966102, 0.54166667],\n",
              "       [0.94444444, 0.41666667, 0.86440678, 0.91666667],\n",
              "       [0.55555556, 0.58333333, 0.77966102, 0.95833333],\n",
              "       [0.58333333, 0.45833333, 0.76271186, 0.70833333],\n",
              "       [0.47222222, 0.41666667, 0.6440678 , 0.70833333],\n",
              "       [0.72222222, 0.45833333, 0.74576271, 0.83333333],\n",
              "       [0.66666667, 0.45833333, 0.77966102, 0.95833333],\n",
              "       [0.72222222, 0.45833333, 0.69491525, 0.91666667],\n",
              "       [0.41666667, 0.29166667, 0.69491525, 0.75      ],\n",
              "       [0.69444444, 0.5       , 0.83050847, 0.91666667],\n",
              "       [0.66666667, 0.54166667, 0.79661017, 1.        ],\n",
              "       [0.66666667, 0.41666667, 0.71186441, 0.91666667],\n",
              "       [0.55555556, 0.20833333, 0.6779661 , 0.75      ],\n",
              "       [0.61111111, 0.41666667, 0.71186441, 0.79166667],\n",
              "       [0.52777778, 0.58333333, 0.74576271, 0.91666667],\n",
              "       [0.44444444, 0.41666667, 0.69491525, 0.70833333]])"
            ]
          },
          "metadata": {
            "tags": []
          },
          "execution_count": 113
        }
      ]
    },
    {
      "cell_type": "code",
      "metadata": {
        "id": "DzTyLXil-Qv3",
        "colab_type": "code",
        "colab": {}
      },
      "source": [
        "X_train, X_test, Y_train, Y_test = train_test_split(X_scale, y, test_size=0.3)"
      ],
      "execution_count": 114,
      "outputs": []
    },
    {
      "cell_type": "code",
      "metadata": {
        "id": "dvEe50vt-YKE",
        "colab_type": "code",
        "colab": {}
      },
      "source": [
        "model = Sequential([    \n",
        "                    Dense(64, activation='relu', input_shape=(4,)),    \n",
        "                    Dense(64, activation='relu'),    \n",
        "                    Dense(3, activation='softmax'),])"
      ],
      "execution_count": 115,
      "outputs": []
    },
    {
      "cell_type": "code",
      "metadata": {
        "id": "Eg6QBgkI-cHc",
        "colab_type": "code",
        "colab": {}
      },
      "source": [
        "model.compile(optimizer='Adam',\n",
        "              loss='categorical_crossentropy',\n",
        "              metrics=['accuracy'])"
      ],
      "execution_count": 116,
      "outputs": []
    },
    {
      "cell_type": "code",
      "metadata": {
        "id": "ujXfwHrt-dFD",
        "colab_type": "code",
        "colab": {
          "base_uri": "https://localhost:8080/",
          "height": 1000
        },
        "outputId": "19d48b7d-5f2b-4fe7-fb95-07ae474f6dc7"
      },
      "source": [
        "hist = model.fit(X_train, Y_train, epochs=100)"
      ],
      "execution_count": 117,
      "outputs": [
        {
          "output_type": "stream",
          "text": [
            "Epoch 1/100\n",
            "4/4 [==============================] - 0s 2ms/step - loss: 1.0700 - accuracy: 0.3238\n",
            "Epoch 2/100\n",
            "4/4 [==============================] - 0s 2ms/step - loss: 1.0295 - accuracy: 0.3429\n",
            "Epoch 3/100\n",
            "4/4 [==============================] - 0s 2ms/step - loss: 0.9953 - accuracy: 0.4762\n",
            "Epoch 4/100\n",
            "4/4 [==============================] - 0s 2ms/step - loss: 0.9658 - accuracy: 0.6095\n",
            "Epoch 5/100\n",
            "4/4 [==============================] - 0s 2ms/step - loss: 0.9383 - accuracy: 0.6476\n",
            "Epoch 6/100\n",
            "4/4 [==============================] - 0s 2ms/step - loss: 0.9116 - accuracy: 0.6571\n",
            "Epoch 7/100\n",
            "4/4 [==============================] - 0s 2ms/step - loss: 0.8844 - accuracy: 0.6571\n",
            "Epoch 8/100\n",
            "4/4 [==============================] - 0s 2ms/step - loss: 0.8559 - accuracy: 0.6571\n",
            "Epoch 9/100\n",
            "4/4 [==============================] - 0s 2ms/step - loss: 0.8268 - accuracy: 0.6571\n",
            "Epoch 10/100\n",
            "4/4 [==============================] - 0s 2ms/step - loss: 0.7979 - accuracy: 0.6571\n",
            "Epoch 11/100\n",
            "4/4 [==============================] - 0s 2ms/step - loss: 0.7689 - accuracy: 0.6571\n",
            "Epoch 12/100\n",
            "4/4 [==============================] - 0s 2ms/step - loss: 0.7403 - accuracy: 0.6571\n",
            "Epoch 13/100\n",
            "4/4 [==============================] - 0s 2ms/step - loss: 0.7125 - accuracy: 0.6571\n",
            "Epoch 14/100\n",
            "4/4 [==============================] - 0s 2ms/step - loss: 0.6842 - accuracy: 0.6571\n",
            "Epoch 15/100\n",
            "4/4 [==============================] - 0s 2ms/step - loss: 0.6580 - accuracy: 0.6762\n",
            "Epoch 16/100\n",
            "4/4 [==============================] - 0s 2ms/step - loss: 0.6316 - accuracy: 0.7238\n",
            "Epoch 17/100\n",
            "4/4 [==============================] - 0s 2ms/step - loss: 0.6079 - accuracy: 0.8095\n",
            "Epoch 18/100\n",
            "4/4 [==============================] - 0s 2ms/step - loss: 0.5842 - accuracy: 0.9048\n",
            "Epoch 19/100\n",
            "4/4 [==============================] - 0s 2ms/step - loss: 0.5612 - accuracy: 0.9143\n",
            "Epoch 20/100\n",
            "4/4 [==============================] - 0s 3ms/step - loss: 0.5413 - accuracy: 0.7810\n",
            "Epoch 21/100\n",
            "4/4 [==============================] - 0s 2ms/step - loss: 0.5207 - accuracy: 0.7333\n",
            "Epoch 22/100\n",
            "4/4 [==============================] - 0s 2ms/step - loss: 0.5040 - accuracy: 0.7143\n",
            "Epoch 23/100\n",
            "4/4 [==============================] - 0s 2ms/step - loss: 0.4867 - accuracy: 0.7429\n",
            "Epoch 24/100\n",
            "4/4 [==============================] - 0s 2ms/step - loss: 0.4693 - accuracy: 0.8095\n",
            "Epoch 25/100\n",
            "4/4 [==============================] - 0s 2ms/step - loss: 0.4550 - accuracy: 0.9048\n",
            "Epoch 26/100\n",
            "4/4 [==============================] - 0s 2ms/step - loss: 0.4435 - accuracy: 0.9524\n",
            "Epoch 27/100\n",
            "4/4 [==============================] - 0s 2ms/step - loss: 0.4306 - accuracy: 0.9429\n",
            "Epoch 28/100\n",
            "4/4 [==============================] - 0s 2ms/step - loss: 0.4162 - accuracy: 0.9143\n",
            "Epoch 29/100\n",
            "4/4 [==============================] - 0s 2ms/step - loss: 0.4050 - accuracy: 0.9429\n",
            "Epoch 30/100\n",
            "4/4 [==============================] - 0s 2ms/step - loss: 0.3944 - accuracy: 0.9238\n",
            "Epoch 31/100\n",
            "4/4 [==============================] - 0s 2ms/step - loss: 0.3841 - accuracy: 0.9714\n",
            "Epoch 32/100\n",
            "4/4 [==============================] - 0s 2ms/step - loss: 0.3735 - accuracy: 0.9619\n",
            "Epoch 33/100\n",
            "4/4 [==============================] - 0s 2ms/step - loss: 0.3644 - accuracy: 0.9619\n",
            "Epoch 34/100\n",
            "4/4 [==============================] - 0s 2ms/step - loss: 0.3529 - accuracy: 0.9524\n",
            "Epoch 35/100\n",
            "4/4 [==============================] - 0s 2ms/step - loss: 0.3428 - accuracy: 0.9714\n",
            "Epoch 36/100\n",
            "4/4 [==============================] - 0s 2ms/step - loss: 0.3359 - accuracy: 0.9333\n",
            "Epoch 37/100\n",
            "4/4 [==============================] - 0s 2ms/step - loss: 0.3265 - accuracy: 0.9333\n",
            "Epoch 38/100\n",
            "4/4 [==============================] - 0s 1ms/step - loss: 0.3150 - accuracy: 0.9524\n",
            "Epoch 39/100\n",
            "4/4 [==============================] - 0s 2ms/step - loss: 0.3059 - accuracy: 0.9619\n",
            "Epoch 40/100\n",
            "4/4 [==============================] - 0s 2ms/step - loss: 0.2963 - accuracy: 0.9619\n",
            "Epoch 41/100\n",
            "4/4 [==============================] - 0s 2ms/step - loss: 0.2850 - accuracy: 0.9524\n",
            "Epoch 42/100\n",
            "4/4 [==============================] - 0s 2ms/step - loss: 0.2776 - accuracy: 0.9619\n",
            "Epoch 43/100\n",
            "4/4 [==============================] - 0s 2ms/step - loss: 0.2683 - accuracy: 0.9619\n",
            "Epoch 44/100\n",
            "4/4 [==============================] - 0s 2ms/step - loss: 0.2589 - accuracy: 0.9524\n",
            "Epoch 45/100\n",
            "4/4 [==============================] - 0s 2ms/step - loss: 0.2528 - accuracy: 0.9619\n",
            "Epoch 46/100\n",
            "4/4 [==============================] - 0s 3ms/step - loss: 0.2432 - accuracy: 0.9714\n",
            "Epoch 47/100\n",
            "4/4 [==============================] - 0s 3ms/step - loss: 0.2345 - accuracy: 0.9714\n",
            "Epoch 48/100\n",
            "4/4 [==============================] - 0s 2ms/step - loss: 0.2397 - accuracy: 0.9524\n",
            "Epoch 49/100\n",
            "4/4 [==============================] - 0s 2ms/step - loss: 0.2223 - accuracy: 0.9714\n",
            "Epoch 50/100\n",
            "4/4 [==============================] - 0s 2ms/step - loss: 0.2169 - accuracy: 0.9714\n",
            "Epoch 51/100\n",
            "4/4 [==============================] - 0s 2ms/step - loss: 0.2212 - accuracy: 0.9524\n",
            "Epoch 52/100\n",
            "4/4 [==============================] - 0s 2ms/step - loss: 0.2029 - accuracy: 0.9714\n",
            "Epoch 53/100\n",
            "4/4 [==============================] - 0s 2ms/step - loss: 0.2036 - accuracy: 0.9619\n",
            "Epoch 54/100\n",
            "4/4 [==============================] - 0s 2ms/step - loss: 0.2023 - accuracy: 0.9619\n",
            "Epoch 55/100\n",
            "4/4 [==============================] - 0s 1ms/step - loss: 0.1842 - accuracy: 0.9619\n",
            "Epoch 56/100\n",
            "4/4 [==============================] - 0s 2ms/step - loss: 0.1792 - accuracy: 0.9524\n",
            "Epoch 57/100\n",
            "4/4 [==============================] - 0s 2ms/step - loss: 0.1756 - accuracy: 0.9524\n",
            "Epoch 58/100\n",
            "4/4 [==============================] - 0s 2ms/step - loss: 0.1720 - accuracy: 0.9714\n",
            "Epoch 59/100\n",
            "4/4 [==============================] - 0s 2ms/step - loss: 0.1654 - accuracy: 0.9714\n",
            "Epoch 60/100\n",
            "4/4 [==============================] - 0s 2ms/step - loss: 0.1632 - accuracy: 0.9524\n",
            "Epoch 61/100\n",
            "4/4 [==============================] - 0s 2ms/step - loss: 0.1594 - accuracy: 0.9524\n",
            "Epoch 62/100\n",
            "4/4 [==============================] - 0s 2ms/step - loss: 0.1545 - accuracy: 0.9524\n",
            "Epoch 63/100\n",
            "4/4 [==============================] - 0s 2ms/step - loss: 0.1508 - accuracy: 0.9619\n",
            "Epoch 64/100\n",
            "4/4 [==============================] - 0s 1ms/step - loss: 0.1478 - accuracy: 0.9714\n",
            "Epoch 65/100\n",
            "4/4 [==============================] - 0s 2ms/step - loss: 0.1482 - accuracy: 0.9714\n",
            "Epoch 66/100\n",
            "4/4 [==============================] - 0s 2ms/step - loss: 0.1445 - accuracy: 0.9714\n",
            "Epoch 67/100\n",
            "4/4 [==============================] - 0s 3ms/step - loss: 0.1391 - accuracy: 0.9714\n",
            "Epoch 68/100\n",
            "4/4 [==============================] - 0s 2ms/step - loss: 0.1364 - accuracy: 0.9524\n",
            "Epoch 69/100\n",
            "4/4 [==============================] - 0s 2ms/step - loss: 0.1339 - accuracy: 0.9524\n",
            "Epoch 70/100\n",
            "4/4 [==============================] - 0s 2ms/step - loss: 0.1332 - accuracy: 0.9524\n",
            "Epoch 71/100\n",
            "4/4 [==============================] - 0s 2ms/step - loss: 0.1281 - accuracy: 0.9714\n",
            "Epoch 72/100\n",
            "4/4 [==============================] - 0s 2ms/step - loss: 0.1252 - accuracy: 0.9714\n",
            "Epoch 73/100\n",
            "4/4 [==============================] - 0s 2ms/step - loss: 0.1274 - accuracy: 0.9619\n",
            "Epoch 74/100\n",
            "4/4 [==============================] - 0s 2ms/step - loss: 0.1240 - accuracy: 0.9619\n",
            "Epoch 75/100\n",
            "4/4 [==============================] - 0s 2ms/step - loss: 0.1195 - accuracy: 0.9619\n",
            "Epoch 76/100\n",
            "4/4 [==============================] - 0s 2ms/step - loss: 0.1176 - accuracy: 0.9524\n",
            "Epoch 77/100\n",
            "4/4 [==============================] - 0s 2ms/step - loss: 0.1167 - accuracy: 0.9619\n",
            "Epoch 78/100\n",
            "4/4 [==============================] - 0s 2ms/step - loss: 0.1165 - accuracy: 0.9619\n",
            "Epoch 79/100\n",
            "4/4 [==============================] - 0s 2ms/step - loss: 0.1134 - accuracy: 0.9619\n",
            "Epoch 80/100\n",
            "4/4 [==============================] - 0s 2ms/step - loss: 0.1089 - accuracy: 0.9619\n",
            "Epoch 81/100\n",
            "4/4 [==============================] - 0s 2ms/step - loss: 0.1079 - accuracy: 0.9619\n",
            "Epoch 82/100\n",
            "4/4 [==============================] - 0s 2ms/step - loss: 0.1067 - accuracy: 0.9619\n",
            "Epoch 83/100\n",
            "4/4 [==============================] - 0s 2ms/step - loss: 0.1043 - accuracy: 0.9524\n",
            "Epoch 84/100\n",
            "4/4 [==============================] - 0s 2ms/step - loss: 0.1031 - accuracy: 0.9714\n",
            "Epoch 85/100\n",
            "4/4 [==============================] - 0s 2ms/step - loss: 0.1036 - accuracy: 0.9619\n",
            "Epoch 86/100\n",
            "4/4 [==============================] - 0s 2ms/step - loss: 0.1009 - accuracy: 0.9619\n",
            "Epoch 87/100\n",
            "4/4 [==============================] - 0s 2ms/step - loss: 0.1011 - accuracy: 0.9524\n",
            "Epoch 88/100\n",
            "4/4 [==============================] - 0s 2ms/step - loss: 0.1004 - accuracy: 0.9714\n",
            "Epoch 89/100\n",
            "4/4 [==============================] - 0s 2ms/step - loss: 0.0973 - accuracy: 0.9714\n",
            "Epoch 90/100\n",
            "4/4 [==============================] - 0s 2ms/step - loss: 0.0957 - accuracy: 0.9619\n",
            "Epoch 91/100\n",
            "4/4 [==============================] - 0s 2ms/step - loss: 0.0942 - accuracy: 0.9619\n",
            "Epoch 92/100\n",
            "4/4 [==============================] - 0s 2ms/step - loss: 0.0935 - accuracy: 0.9714\n",
            "Epoch 93/100\n",
            "4/4 [==============================] - 0s 2ms/step - loss: 0.0939 - accuracy: 0.9619\n",
            "Epoch 94/100\n",
            "4/4 [==============================] - 0s 2ms/step - loss: 0.0902 - accuracy: 0.9714\n",
            "Epoch 95/100\n",
            "4/4 [==============================] - 0s 2ms/step - loss: 0.0949 - accuracy: 0.9714\n",
            "Epoch 96/100\n",
            "4/4 [==============================] - 0s 2ms/step - loss: 0.0951 - accuracy: 0.9714\n",
            "Epoch 97/100\n",
            "4/4 [==============================] - 0s 2ms/step - loss: 0.0876 - accuracy: 0.9810\n",
            "Epoch 98/100\n",
            "4/4 [==============================] - 0s 1ms/step - loss: 0.0870 - accuracy: 0.9714\n",
            "Epoch 99/100\n",
            "4/4 [==============================] - 0s 2ms/step - loss: 0.0860 - accuracy: 0.9714\n",
            "Epoch 100/100\n",
            "4/4 [==============================] - 0s 3ms/step - loss: 0.0855 - accuracy: 0.9619\n"
          ],
          "name": "stdout"
        }
      ]
    },
    {
      "cell_type": "code",
      "metadata": {
        "id": "mDru6Ria-lrJ",
        "colab_type": "code",
        "colab": {
          "base_uri": "https://localhost:8080/",
          "height": 52
        },
        "outputId": "2f545bde-0ae3-496e-fb1b-187f1de81b69"
      },
      "source": [
        "model.evaluate(X_test, Y_test)"
      ],
      "execution_count": 118,
      "outputs": [
        {
          "output_type": "stream",
          "text": [
            "2/2 [==============================] - 0s 1ms/step - loss: 0.1185 - accuracy: 0.9556\n"
          ],
          "name": "stdout"
        },
        {
          "output_type": "execute_result",
          "data": {
            "text/plain": [
              "[0.11846271902322769, 0.9555555582046509]"
            ]
          },
          "metadata": {
            "tags": []
          },
          "execution_count": 118
        }
      ]
    },
    {
      "cell_type": "markdown",
      "metadata": {
        "id": "5TiTrGxu-xSj",
        "colab_type": "text"
      },
      "source": [
        "# Plot Loss dan Akurasi dari Trained Model"
      ]
    },
    {
      "cell_type": "code",
      "metadata": {
        "id": "-QHWUcMV-zKk",
        "colab_type": "code",
        "colab": {}
      },
      "source": [
        "import matplotlib.pyplot as plt"
      ],
      "execution_count": 119,
      "outputs": []
    },
    {
      "cell_type": "code",
      "metadata": {
        "id": "udgVknDF-77s",
        "colab_type": "code",
        "colab": {
          "base_uri": "https://localhost:8080/",
          "height": 295
        },
        "outputId": "e92006e0-cb41-4359-9fcb-bd7dea7be0a0"
      },
      "source": [
        "plt.plot(hist.history['loss'])\n",
        "plt.title('Model loss')\n",
        "plt.ylabel('Loss')\n",
        "plt.xlabel('Epoch')\n",
        "plt.legend(['Train'], loc='upper right')\n",
        "plt.show()"
      ],
      "execution_count": 120,
      "outputs": [
        {
          "output_type": "display_data",
          "data": {
            "image/png": "[encoded data removed]",
            "text/plain": [
              "<Figure size 432x288 with 1 Axes>"
            ]
          },
          "metadata": {
            "tags": [],
            "needs_background": "light"
          }
        }
      ]
    },
    {
      "cell_type": "code",
      "metadata": {
        "id": "8dUFhNj4_Fqt",
        "colab_type": "code",
        "colab": {
          "base_uri": "https://localhost:8080/",
          "height": 295
        },
        "outputId": "d7b62cda-ac5e-4f26-c3f0-ae2de040e094"
      },
      "source": [
        "plt.plot(hist.history['accuracy'])\n",
        "plt.title('Model accuracy')\n",
        "plt.ylabel('Accuracy')\n",
        "plt.xlabel('Epoch')\n",
        "plt.legend(['Train'], loc='lower right')\n",
        "plt.show()"
      ],
      "execution_count": 121,
      "outputs": [
        {
          "output_type": "display_data",
          "data": {
            "image/png": "[encoded data removed]",
            "text/plain": [
              "<Figure size 432x288 with 1 Axes>"
            ]
          },
          "metadata": {
            "tags": [],
            "needs_background": "light"
          }
        }
      ]
    },
    {
      "cell_type": "markdown",
      "metadata": {
        "id": "YAWmHX8J_9n6",
        "colab_type": "text"
      },
      "source": [
        "# Penggunaan Callbacks"
      ]
    },
    {
      "cell_type": "code",
      "metadata": {
        "id": "sC9FxhBJ__EW",
        "colab_type": "code",
        "colab": {}
      },
      "source": [
        "from keras.layers import Dense\n",
        "df = pd.read_csv('Iris.csv')\n",
        "df = df.drop(columns='Id')\n",
        "category = pd.get_dummies(df.Species)\n",
        "new_df = pd.concat([df, category], axis=1)\n",
        "new_df = new_df.drop(columns='Species')\n",
        "dataset = new_df.values\n",
        "X = dataset[:,0:4]\n",
        "y = dataset[:,4:7]\n",
        "min_max_scaler = preprocessing.MinMaxScaler()\n",
        "X_scale = min_max_scaler.fit_transform(X)\n",
        "X_train, X_test, Y_train, Y_test = train_test_split(X_scale, y, test_size=0.3)\n",
        "model = Sequential([    \n",
        "                    Dense(64, activation='relu', input_shape=(4,)),    \n",
        "                    Dense(64, activation='relu'),    \n",
        "                    Dense(3, activation='sigmoid'),])\n",
        "model.compile(optimizer='Adam',\n",
        "              loss='categorical_crossentropy',\n",
        "              metrics=['accuracy'])"
      ],
      "execution_count": 123,
      "outputs": []
    },
    {
      "cell_type": "code",
      "metadata": {
        "id": "zbofnre3ARKl",
        "colab_type": "code",
        "colab": {}
      },
      "source": [
        "class myCallback(tf.keras.callbacks.Callback):\n",
        "  def on_epoch_end(self, epoch, logs={}):\n",
        "    if(logs.get('accuracy')>0.9):\n",
        "      print(\"\\nAkurasi telah mencapai >90%!\")\n",
        "      self.model.stop_training = True\n",
        "callbacks = myCallback()"
      ],
      "execution_count": 124,
      "outputs": []
    },
    {
      "cell_type": "code",
      "metadata": {
        "id": "OAzXWpb9ASBr",
        "colab_type": "code",
        "colab": {
          "base_uri": "https://localhost:8080/",
          "height": 485
        },
        "outputId": "422aa212-9dc2-401b-b495-428d3b2bd25f"
      },
      "source": [
        "model.fit(X_train, Y_train, epochs=50, callbacks=[callbacks])"
      ],
      "execution_count": 125,
      "outputs": [
        {
          "output_type": "stream",
          "text": [
            "Epoch 1/50\n",
            "4/4 [==============================] - 0s 2ms/step - loss: 1.0713 - accuracy: 0.4190\n",
            "Epoch 2/50\n",
            "4/4 [==============================] - 0s 2ms/step - loss: 1.0534 - accuracy: 0.4952\n",
            "Epoch 3/50\n",
            "4/4 [==============================] - 0s 2ms/step - loss: 1.0383 - accuracy: 0.5143\n",
            "Epoch 4/50\n",
            "4/4 [==============================] - 0s 2ms/step - loss: 1.0233 - accuracy: 0.5238\n",
            "Epoch 5/50\n",
            "4/4 [==============================] - 0s 2ms/step - loss: 1.0080 - accuracy: 0.5619\n",
            "Epoch 6/50\n",
            "4/4 [==============================] - 0s 2ms/step - loss: 0.9910 - accuracy: 0.5714\n",
            "Epoch 7/50\n",
            "4/4 [==============================] - 0s 2ms/step - loss: 0.9728 - accuracy: 0.5905\n",
            "Epoch 8/50\n",
            "4/4 [==============================] - 0s 2ms/step - loss: 0.9535 - accuracy: 0.6476\n",
            "Epoch 9/50\n",
            "4/4 [==============================] - 0s 2ms/step - loss: 0.9321 - accuracy: 0.7714\n",
            "Epoch 10/50\n",
            "4/4 [==============================] - 0s 2ms/step - loss: 0.9095 - accuracy: 0.8667\n",
            "Epoch 11/50\n",
            "4/4 [==============================] - 0s 2ms/step - loss: 0.8849 - accuracy: 0.8952\n",
            "Epoch 12/50\n",
            "1/4 [======>.......................] - ETA: 0s - loss: 0.8689 - accuracy: 0.9375\n",
            "Akurasi telah mencapai >90%!\n",
            "4/4 [==============================] - 0s 2ms/step - loss: 0.8587 - accuracy: 0.9143\n"
          ],
          "name": "stdout"
        },
        {
          "output_type": "execute_result",
          "data": {
            "text/plain": [
              "<tensorflow.python.keras.callbacks.History at 0x7f817ada07f0>"
            ]
          },
          "metadata": {
            "tags": []
          },
          "execution_count": 125
        }
      ]
    },
    {
      "cell_type": "code",
      "metadata": {
        "id": "BMOHPsAsAWxc",
        "colab_type": "code",
        "colab": {}
      },
      "source": [
        ""
      ],
      "execution_count": null,
      "outputs": []
    }
  ]
}