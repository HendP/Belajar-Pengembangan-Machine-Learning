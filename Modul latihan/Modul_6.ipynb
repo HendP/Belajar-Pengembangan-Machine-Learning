{
  "nbformat": 4,
  "nbformat_minor": 0,
  "metadata": {
    "colab": {
      "name": "modul 6.ipynb",
      "provenance": [],
      "toc_visible": true,
      "authorship_tag": "ABX9TyPUS5AbW1ocelx4XofU8vn8",
      "include_colab_link": true
    },
    "kernelspec": {
      "name": "python3",
      "display_name": "Python 3"
    }
  },
  "cells": [
    {
      "cell_type": "markdown",
      "metadata": {
        "id": "view-in-github",
        "colab_type": "text"
      },
      "source": [
        "<a href=\"https://colab.research.google.com/github/agungtriu/Belajar-Pengembangan-Machine-Learning/blob/master/modul_6.ipynb\" target=\"_parent\"><img src=\"https://colab.research.google.com/assets/colab-badge.svg\" alt=\"Open In Colab\"/></a>"
      ]
    },
    {
      "cell_type": "markdown",
      "metadata": {
        "id": "2ZX8CmXl9MXa",
        "colab_type": "text"
      },
      "source": [
        "# Latihan Tokenization\n"
      ]
    },
    {
      "cell_type": "code",
      "metadata": {
        "id": "z3rHp3717Ia7",
        "colab_type": "code",
        "colab": {}
      },
      "source": [
        "from tensorflow.keras.preprocessing.text import Tokenizer"
      ],
      "execution_count": 64,
      "outputs": []
    },
    {
      "cell_type": "code",
      "metadata": {
        "id": "nGSPPQIs9_Xe",
        "colab_type": "code",
        "colab": {}
      },
      "source": [
        "tokenizer = Tokenizer(num_words=15, oov_token='-')"
      ],
      "execution_count": 65,
      "outputs": []
    },
    {
      "cell_type": "code",
      "metadata": {
        "id": "U32eDmtD-CqK",
        "colab_type": "code",
        "colab": {}
      },
      "source": [
        "teks = ['Saya suka programming', \n",
        "        'Programming sangat menyenangkan!', \n",
        "        'Machine Learning berbeda dengan pemrograman konvensional']"
      ],
      "execution_count": 66,
      "outputs": []
    },
    {
      "cell_type": "code",
      "metadata": {
        "id": "29ux-zcxDSRj",
        "colab_type": "code",
        "colab": {}
      },
      "source": [
        "tokenizer.fit_on_texts(teks)"
      ],
      "execution_count": 67,
      "outputs": []
    },
    {
      "cell_type": "code",
      "metadata": {
        "id": "QCFKy_fR-GPq",
        "colab_type": "code",
        "colab": {}
      },
      "source": [
        "sequences = tokenizer.texts_to_sequences(teks)"
      ],
      "execution_count": 68,
      "outputs": []
    },
    {
      "cell_type": "code",
      "metadata": {
        "id": "1bNnSEwY-RCJ",
        "colab_type": "code",
        "colab": {
          "base_uri": "https://localhost:8080/",
          "height": 55
        },
        "outputId": "a31ae454-ef06-4a76-a24d-2c872eb7a960"
      },
      "source": [
        "print(tokenizer.word_index)"
      ],
      "execution_count": 69,
      "outputs": [
        {
          "output_type": "stream",
          "text": [
            "{'-': 1, 'programming': 2, 'saya': 3, 'suka': 4, 'sangat': 5, 'menyenangkan': 6, 'machine': 7, 'learning': 8, 'berbeda': 9, 'dengan': 10, 'pemrograman': 11, 'konvensional': 12}\n"
          ],
          "name": "stdout"
        }
      ]
    },
    {
      "cell_type": "code",
      "metadata": {
        "id": "mKiLUUk--W-G",
        "colab_type": "code",
        "colab": {
          "base_uri": "https://localhost:8080/",
          "height": 52
        },
        "outputId": "0307833f-7a90-4d44-e407-3ded5d829864"
      },
      "source": [
        "print(tokenizer.texts_to_sequences(['Saya suka programming']))\n",
        "print(tokenizer.texts_to_sequences(['Saya suka belajar programming sejak SMP']))"
      ],
      "execution_count": 70,
      "outputs": [
        {
          "output_type": "stream",
          "text": [
            "[[3, 4, 2]]\n",
            "[[3, 4, 1, 2, 1, 1]]\n"
          ],
          "name": "stdout"
        }
      ]
    },
    {
      "cell_type": "code",
      "metadata": {
        "id": "h7gRR1f_D_YR",
        "colab_type": "code",
        "colab": {
          "base_uri": "https://localhost:8080/",
          "height": 69
        },
        "outputId": "72e6623a-30a5-42d5-8ba8-9b70b4b141d4"
      },
      "source": [
        "from tensorflow.keras.preprocessing.sequence import pad_sequences\n",
        "sequences_samapanjang = pad_sequences(sequences)\n",
        "print(sequences_samapanjang)"
      ],
      "execution_count": 71,
      "outputs": [
        {
          "output_type": "stream",
          "text": [
            "[[ 0  0  0  3  4  2]\n",
            " [ 0  0  0  2  5  6]\n",
            " [ 7  8  9 10 11 12]]\n"
          ],
          "name": "stdout"
        }
      ]
    },
    {
      "cell_type": "code",
      "metadata": {
        "id": "HGphttzDECJX",
        "colab_type": "code",
        "colab": {
          "base_uri": "https://localhost:8080/",
          "height": 69
        },
        "outputId": "ea957746-a50f-441a-deb7-6723dee5ff46"
      },
      "source": [
        "sequences_samapanjang = pad_sequences(sequences, \n",
        "                                      padding='post',\n",
        "                                      maxlen=5)\n",
        "print(sequences_samapanjang)"
      ],
      "execution_count": 73,
      "outputs": [
        {
          "output_type": "stream",
          "text": [
            "[[ 3  4  2  0  0]\n",
            " [ 2  5  6  0  0]\n",
            " [ 8  9 10 11 12]]\n"
          ],
          "name": "stdout"
        }
      ]
    },
    {
      "cell_type": "code",
      "metadata": {
        "id": "gs6Z8sGsEEkB",
        "colab_type": "code",
        "colab": {
          "base_uri": "https://localhost:8080/",
          "height": 69
        },
        "outputId": "3ee0933e-e351-4594-9ac0-ebf55e60071b"
      },
      "source": [
        "sequences_samapanjang = pad_sequences(sequences, \n",
        "                                      padding='post',\n",
        "                                      maxlen=5,\n",
        "                                      truncating='post')\n",
        "print(sequences_samapanjang)"
      ],
      "execution_count": 74,
      "outputs": [
        {
          "output_type": "stream",
          "text": [
            "[[ 3  4  2  0  0]\n",
            " [ 2  5  6  0  0]\n",
            " [ 7  8  9 10 11]]\n"
          ],
          "name": "stdout"
        }
      ]
    },
    {
      "cell_type": "markdown",
      "metadata": {
        "id": "fLWmh-FEFw8Q",
        "colab_type": "text"
      },
      "source": [
        "# Binary Text Classification"
      ]
    },
    {
      "cell_type": "code",
      "metadata": {
        "id": "6DSNF6oyFywD",
        "colab_type": "code",
        "colab": {
          "base_uri": "https://localhost:8080/",
          "height": 202
        },
        "outputId": "a15e6d0e-3056-4415-c41d-ccbed9e727d6"
      },
      "source": [
        "import pandas as pd\n",
        "df = pd.read_csv('yelp_labelled.txt', names=['sentence', 'label'], sep='\\t')\n",
        "df.tail()"
      ],
      "execution_count": 80,
      "outputs": [
        {
          "output_type": "execute_result",
          "data": {
            "text/html": [
              "<div>\n",
              "<style scoped>\n",
              "    .dataframe tbody tr th:only-of-type {\n",
              "        vertical-align: middle;\n",
              "    }\n",
              "\n",
              "    .dataframe tbody tr th {\n",
              "        vertical-align: top;\n",
              "    }\n",
              "\n",
              "    .dataframe thead th {\n",
              "        text-align: right;\n",
              "    }\n",
              "</style>\n",
              "<table border=\"1\" class=\"dataframe\">\n",
              "  <thead>\n",
              "    <tr style=\"text-align: right;\">\n",
              "      <th></th>\n",
              "      <th>sentence</th>\n",
              "      <th>label</th>\n",
              "    </tr>\n",
              "  </thead>\n",
              "  <tbody>\n",
              "    <tr>\n",
              "      <th>995</th>\n",
              "      <td>I think food should have flavor and texture an...</td>\n",
              "      <td>0</td>\n",
              "    </tr>\n",
              "    <tr>\n",
              "      <th>996</th>\n",
              "      <td>Appetite instantly gone.</td>\n",
              "      <td>0</td>\n",
              "    </tr>\n",
              "    <tr>\n",
              "      <th>997</th>\n",
              "      <td>Overall I was not impressed and would not go b...</td>\n",
              "      <td>0</td>\n",
              "    </tr>\n",
              "    <tr>\n",
              "      <th>998</th>\n",
              "      <td>The whole experience was underwhelming, and I ...</td>\n",
              "      <td>0</td>\n",
              "    </tr>\n",
              "    <tr>\n",
              "      <th>999</th>\n",
              "      <td>Then, as if I hadn't wasted enough of my life ...</td>\n",
              "      <td>0</td>\n",
              "    </tr>\n",
              "  </tbody>\n",
              "</table>\n",
              "</div>"
            ],
            "text/plain": [
              "                                              sentence  label\n",
              "995  I think food should have flavor and texture an...      0\n",
              "996                           Appetite instantly gone.      0\n",
              "997  Overall I was not impressed and would not go b...      0\n",
              "998  The whole experience was underwhelming, and I ...      0\n",
              "999  Then, as if I hadn't wasted enough of my life ...      0"
            ]
          },
          "metadata": {
            "tags": []
          },
          "execution_count": 80
        }
      ]
    },
    {
      "cell_type": "code",
      "metadata": {
        "id": "Dtj7ZR8qGx8A",
        "colab_type": "code",
        "colab": {}
      },
      "source": [
        "from sklearn.model_selection import train_test_split\n",
        "kalimat = df['sentence'].values\n",
        "y = df['label'].values\n",
        "kalimat_latih, kalimat_test, y_latih, y_test = train_test_split(kalimat, y, test_size=0.2)"
      ],
      "execution_count": 81,
      "outputs": []
    },
    {
      "cell_type": "code",
      "metadata": {
        "id": "t076voaAG3px",
        "colab_type": "code",
        "colab": {}
      },
      "source": [
        "from tensorflow.keras.preprocessing.text import Tokenizer\n",
        "from tensorflow.keras.preprocessing.sequence import pad_sequences\n",
        " \n",
        "tokenizer = Tokenizer(num_words=250, oov_token='x')\n",
        "tokenizer.fit_on_texts(kalimat_latih) \n",
        "tokenizer.fit_on_texts(kalimat_test)\n",
        " \n",
        "sekuens_latih = tokenizer.texts_to_sequences(kalimat_latih)\n",
        "sekuens_test = tokenizer.texts_to_sequences(kalimat_test)\n",
        " \n",
        "padded_latih = pad_sequences(sekuens_latih) \n",
        "padded_test = pad_sequences(sekuens_test)"
      ],
      "execution_count": 82,
      "outputs": []
    },
    {
      "cell_type": "code",
      "metadata": {
        "id": "MGDiOqMMHHZb",
        "colab_type": "code",
        "colab": {}
      },
      "source": [
        "import tensorflow as tf\n",
        "model = tf.keras.Sequential([\n",
        "    tf.keras.layers.Embedding(250, 16, input_length=20),\n",
        "    tf.keras.layers.GlobalAveragePooling1D(),\n",
        "    tf.keras.layers.Dense(24, activation='relu'),\n",
        "    tf.keras.layers.Dense(1, activation='sigmoid')\n",
        "])\n",
        "model.compile(loss='binary_crossentropy',optimizer='adam',metrics=['accuracy'])"
      ],
      "execution_count": 83,
      "outputs": []
    },
    {
      "cell_type": "code",
      "metadata": {
        "id": "6E3oj05UHVVu",
        "colab_type": "code",
        "colab": {
          "base_uri": "https://localhost:8080/",
          "height": 1000
        },
        "outputId": "1744617f-7ad3-45a8-824a-e3bce292427e"
      },
      "source": [
        "num_epochs = 30\n",
        "history = model.fit(padded_latih, y_latih, epochs=num_epochs, \n",
        "                    validation_data=(padded_test, y_test), verbose=2)"
      ],
      "execution_count": 84,
      "outputs": [
        {
          "output_type": "stream",
          "text": [
            "Epoch 1/30\n",
            "WARNING:tensorflow:Model was constructed with shape (None, 20) for input Tensor(\"embedding_input:0\", shape=(None, 20), dtype=float32), but it was called on an input with incompatible shape (32, 32).\n",
            "WARNING:tensorflow:Model was constructed with shape (None, 20) for input Tensor(\"embedding_input:0\", shape=(None, 20), dtype=float32), but it was called on an input with incompatible shape (32, 32).\n",
            "WARNING:tensorflow:Model was constructed with shape (None, 20) for input Tensor(\"embedding_input:0\", shape=(None, 20), dtype=float32), but it was called on an input with incompatible shape (None, 28).\n",
            "25/25 - 0s - loss: 0.6931 - accuracy: 0.5013 - val_loss: 0.6929 - val_accuracy: 0.4600\n",
            "Epoch 2/30\n",
            "25/25 - 0s - loss: 0.6914 - accuracy: 0.6075 - val_loss: 0.6907 - val_accuracy: 0.6450\n",
            "Epoch 3/30\n",
            "25/25 - 0s - loss: 0.6891 - accuracy: 0.6400 - val_loss: 0.6879 - val_accuracy: 0.6600\n",
            "Epoch 4/30\n",
            "25/25 - 0s - loss: 0.6858 - accuracy: 0.6150 - val_loss: 0.6833 - val_accuracy: 0.6450\n",
            "Epoch 5/30\n",
            "25/25 - 0s - loss: 0.6802 - accuracy: 0.6750 - val_loss: 0.6791 - val_accuracy: 0.6800\n",
            "Epoch 6/30\n",
            "25/25 - 0s - loss: 0.6723 - accuracy: 0.6800 - val_loss: 0.6686 - val_accuracy: 0.6850\n",
            "Epoch 7/30\n",
            "25/25 - 0s - loss: 0.6607 - accuracy: 0.6712 - val_loss: 0.6595 - val_accuracy: 0.7050\n",
            "Epoch 8/30\n",
            "25/25 - 0s - loss: 0.6444 - accuracy: 0.7075 - val_loss: 0.6425 - val_accuracy: 0.6850\n",
            "Epoch 9/30\n",
            "25/25 - 0s - loss: 0.6231 - accuracy: 0.7513 - val_loss: 0.6288 - val_accuracy: 0.7150\n",
            "Epoch 10/30\n",
            "25/25 - 0s - loss: 0.5976 - accuracy: 0.7812 - val_loss: 0.6067 - val_accuracy: 0.7200\n",
            "Epoch 11/30\n",
            "25/25 - 0s - loss: 0.5676 - accuracy: 0.8050 - val_loss: 0.5849 - val_accuracy: 0.7250\n",
            "Epoch 12/30\n",
            "25/25 - 0s - loss: 0.5376 - accuracy: 0.8175 - val_loss: 0.5698 - val_accuracy: 0.7100\n",
            "Epoch 13/30\n",
            "25/25 - 0s - loss: 0.5050 - accuracy: 0.8313 - val_loss: 0.5507 - val_accuracy: 0.7250\n",
            "Epoch 14/30\n",
            "25/25 - 0s - loss: 0.4737 - accuracy: 0.8338 - val_loss: 0.5423 - val_accuracy: 0.7350\n",
            "Epoch 15/30\n",
            "25/25 - 0s - loss: 0.4458 - accuracy: 0.8363 - val_loss: 0.5273 - val_accuracy: 0.7500\n",
            "Epoch 16/30\n",
            "25/25 - 0s - loss: 0.4234 - accuracy: 0.8450 - val_loss: 0.5298 - val_accuracy: 0.7650\n",
            "Epoch 17/30\n",
            "25/25 - 0s - loss: 0.3978 - accuracy: 0.8537 - val_loss: 0.5236 - val_accuracy: 0.7500\n",
            "Epoch 18/30\n",
            "25/25 - 0s - loss: 0.3792 - accuracy: 0.8612 - val_loss: 0.5350 - val_accuracy: 0.7650\n",
            "Epoch 19/30\n",
            "25/25 - 0s - loss: 0.3608 - accuracy: 0.8650 - val_loss: 0.5209 - val_accuracy: 0.7550\n",
            "Epoch 20/30\n",
            "25/25 - 0s - loss: 0.3479 - accuracy: 0.8587 - val_loss: 0.5230 - val_accuracy: 0.7450\n",
            "Epoch 21/30\n",
            "25/25 - 0s - loss: 0.3320 - accuracy: 0.8675 - val_loss: 0.5334 - val_accuracy: 0.7450\n",
            "Epoch 22/30\n",
            "25/25 - 0s - loss: 0.3221 - accuracy: 0.8775 - val_loss: 0.5332 - val_accuracy: 0.7500\n",
            "Epoch 23/30\n",
            "25/25 - 0s - loss: 0.3088 - accuracy: 0.8788 - val_loss: 0.5439 - val_accuracy: 0.7600\n",
            "Epoch 24/30\n",
            "25/25 - 0s - loss: 0.2997 - accuracy: 0.8813 - val_loss: 0.5461 - val_accuracy: 0.7550\n",
            "Epoch 25/30\n",
            "25/25 - 0s - loss: 0.2908 - accuracy: 0.8863 - val_loss: 0.5515 - val_accuracy: 0.7500\n",
            "Epoch 26/30\n",
            "25/25 - 0s - loss: 0.2832 - accuracy: 0.8900 - val_loss: 0.5575 - val_accuracy: 0.7550\n",
            "Epoch 27/30\n",
            "25/25 - 0s - loss: 0.2775 - accuracy: 0.8950 - val_loss: 0.5679 - val_accuracy: 0.7500\n",
            "Epoch 28/30\n",
            "25/25 - 0s - loss: 0.2701 - accuracy: 0.8975 - val_loss: 0.5769 - val_accuracy: 0.7500\n",
            "Epoch 29/30\n",
            "25/25 - 0s - loss: 0.2654 - accuracy: 0.8963 - val_loss: 0.5805 - val_accuracy: 0.7600\n",
            "Epoch 30/30\n",
            "25/25 - 0s - loss: 0.2587 - accuracy: 0.9013 - val_loss: 0.5907 - val_accuracy: 0.7600\n"
          ],
          "name": "stdout"
        }
      ]
    },
    {
      "cell_type": "markdown",
      "metadata": {
        "id": "c2n_Br9JH66K",
        "colab_type": "text"
      },
      "source": [
        "# Multiclass Text Classification"
      ]
    },
    {
      "cell_type": "code",
      "metadata": {
        "id": "zeGKV8W0HZJl",
        "colab_type": "code",
        "colab": {
          "base_uri": "https://localhost:8080/",
          "height": 202
        },
        "outputId": "176025b0-616c-4603-c0ac-2a05e37eb887"
      },
      "source": [
        "import pandas as pd\n",
        "df = pd.read_csv('imdb_indonesian_movies_2.csv')\n",
        "df = df.drop(columns=['judul_film'])\n",
        "df.head()"
      ],
      "execution_count": 86,
      "outputs": [
        {
          "output_type": "execute_result",
          "data": {
            "text/html": [
              "<div>\n",
              "<style scoped>\n",
              "    .dataframe tbody tr th:only-of-type {\n",
              "        vertical-align: middle;\n",
              "    }\n",
              "\n",
              "    .dataframe tbody tr th {\n",
              "        vertical-align: top;\n",
              "    }\n",
              "\n",
              "    .dataframe thead th {\n",
              "        text-align: right;\n",
              "    }\n",
              "</style>\n",
              "<table border=\"1\" class=\"dataframe\">\n",
              "  <thead>\n",
              "    <tr style=\"text-align: right;\">\n",
              "      <th></th>\n",
              "      <th>ringkasan_sinopsis</th>\n",
              "      <th>genre</th>\n",
              "    </tr>\n",
              "  </thead>\n",
              "  <tbody>\n",
              "    <tr>\n",
              "      <th>0</th>\n",
              "      <td>Raden Mas Said putra sulung Tumenggung Wilarik...</td>\n",
              "      <td>Drama</td>\n",
              "    </tr>\n",
              "    <tr>\n",
              "      <th>1</th>\n",
              "      <td>Soe Hok Gie adalah seorang aktivis yang hidup ...</td>\n",
              "      <td>Drama</td>\n",
              "    </tr>\n",
              "    <tr>\n",
              "      <th>2</th>\n",
              "      <td>Guru Bangsa Tjokroaminoto menceritakan tentang...</td>\n",
              "      <td>Drama</td>\n",
              "    </tr>\n",
              "    <tr>\n",
              "      <th>3</th>\n",
              "      <td>POL menceritakan kisah hidup yang luar biasa d...</td>\n",
              "      <td>Drama</td>\n",
              "    </tr>\n",
              "    <tr>\n",
              "      <th>4</th>\n",
              "      <td>Perjalanan pahlawan Indonesia KH Ahmad Dahlan ...</td>\n",
              "      <td>Drama</td>\n",
              "    </tr>\n",
              "  </tbody>\n",
              "</table>\n",
              "</div>"
            ],
            "text/plain": [
              "                                  ringkasan_sinopsis  genre\n",
              "0  Raden Mas Said putra sulung Tumenggung Wilarik...  Drama\n",
              "1  Soe Hok Gie adalah seorang aktivis yang hidup ...  Drama\n",
              "2  Guru Bangsa Tjokroaminoto menceritakan tentang...  Drama\n",
              "3  POL menceritakan kisah hidup yang luar biasa d...  Drama\n",
              "4  Perjalanan pahlawan Indonesia KH Ahmad Dahlan ...  Drama"
            ]
          },
          "metadata": {
            "tags": []
          },
          "execution_count": 86
        }
      ]
    },
    {
      "cell_type": "code",
      "metadata": {
        "id": "vL_wxAzFIejO",
        "colab_type": "code",
        "colab": {
          "base_uri": "https://localhost:8080/",
          "height": 415
        },
        "outputId": "8eba6922-d36b-48dc-ccca-e8fb27ae4402"
      },
      "source": [
        "category = pd.get_dummies(df.genre)\n",
        "df_baru = pd.concat([df, category], axis=1)\n",
        "df_baru = df_baru.drop(columns='genre')\n",
        "df_baru"
      ],
      "execution_count": 87,
      "outputs": [
        {
          "output_type": "execute_result",
          "data": {
            "text/html": [
              "<div>\n",
              "<style scoped>\n",
              "    .dataframe tbody tr th:only-of-type {\n",
              "        vertical-align: middle;\n",
              "    }\n",
              "\n",
              "    .dataframe tbody tr th {\n",
              "        vertical-align: top;\n",
              "    }\n",
              "\n",
              "    .dataframe thead th {\n",
              "        text-align: right;\n",
              "    }\n",
              "</style>\n",
              "<table border=\"1\" class=\"dataframe\">\n",
              "  <thead>\n",
              "    <tr style=\"text-align: right;\">\n",
              "      <th></th>\n",
              "      <th>ringkasan_sinopsis</th>\n",
              "      <th>Drama</th>\n",
              "      <th>Horor</th>\n",
              "      <th>Komedi</th>\n",
              "      <th>Laga</th>\n",
              "      <th>Romantis</th>\n",
              "    </tr>\n",
              "  </thead>\n",
              "  <tbody>\n",
              "    <tr>\n",
              "      <th>0</th>\n",
              "      <td>Raden Mas Said putra sulung Tumenggung Wilarik...</td>\n",
              "      <td>1</td>\n",
              "      <td>0</td>\n",
              "      <td>0</td>\n",
              "      <td>0</td>\n",
              "      <td>0</td>\n",
              "    </tr>\n",
              "    <tr>\n",
              "      <th>1</th>\n",
              "      <td>Soe Hok Gie adalah seorang aktivis yang hidup ...</td>\n",
              "      <td>1</td>\n",
              "      <td>0</td>\n",
              "      <td>0</td>\n",
              "      <td>0</td>\n",
              "      <td>0</td>\n",
              "    </tr>\n",
              "    <tr>\n",
              "      <th>2</th>\n",
              "      <td>Guru Bangsa Tjokroaminoto menceritakan tentang...</td>\n",
              "      <td>1</td>\n",
              "      <td>0</td>\n",
              "      <td>0</td>\n",
              "      <td>0</td>\n",
              "      <td>0</td>\n",
              "    </tr>\n",
              "    <tr>\n",
              "      <th>3</th>\n",
              "      <td>POL menceritakan kisah hidup yang luar biasa d...</td>\n",
              "      <td>1</td>\n",
              "      <td>0</td>\n",
              "      <td>0</td>\n",
              "      <td>0</td>\n",
              "      <td>0</td>\n",
              "    </tr>\n",
              "    <tr>\n",
              "      <th>4</th>\n",
              "      <td>Perjalanan pahlawan Indonesia KH Ahmad Dahlan ...</td>\n",
              "      <td>1</td>\n",
              "      <td>0</td>\n",
              "      <td>0</td>\n",
              "      <td>0</td>\n",
              "      <td>0</td>\n",
              "    </tr>\n",
              "    <tr>\n",
              "      <th>...</th>\n",
              "      <td>...</td>\n",
              "      <td>...</td>\n",
              "      <td>...</td>\n",
              "      <td>...</td>\n",
              "      <td>...</td>\n",
              "      <td>...</td>\n",
              "    </tr>\n",
              "    <tr>\n",
              "      <th>1000</th>\n",
              "      <td>Winter in Tokyo berpusat pada kehidupan Ishida...</td>\n",
              "      <td>0</td>\n",
              "      <td>0</td>\n",
              "      <td>0</td>\n",
              "      <td>0</td>\n",
              "      <td>1</td>\n",
              "    </tr>\n",
              "    <tr>\n",
              "      <th>1001</th>\n",
              "      <td>Markonah melarikan diri ke Jakarta karena akan...</td>\n",
              "      <td>0</td>\n",
              "      <td>0</td>\n",
              "      <td>0</td>\n",
              "      <td>0</td>\n",
              "      <td>1</td>\n",
              "    </tr>\n",
              "    <tr>\n",
              "      <th>1002</th>\n",
              "      <td>Tempat aking lebih dari 36 jam, Last Night ada...</td>\n",
              "      <td>0</td>\n",
              "      <td>0</td>\n",
              "      <td>0</td>\n",
              "      <td>0</td>\n",
              "      <td>1</td>\n",
              "    </tr>\n",
              "    <tr>\n",
              "      <th>1003</th>\n",
              "      <td>Proyek baru ini adalah tentang seorang lelaki ...</td>\n",
              "      <td>0</td>\n",
              "      <td>0</td>\n",
              "      <td>0</td>\n",
              "      <td>0</td>\n",
              "      <td>1</td>\n",
              "    </tr>\n",
              "    <tr>\n",
              "      <th>1004</th>\n",
              "      <td>Atika (Meriam Bellina) mantan penyanyi tenar, ...</td>\n",
              "      <td>0</td>\n",
              "      <td>0</td>\n",
              "      <td>0</td>\n",
              "      <td>0</td>\n",
              "      <td>1</td>\n",
              "    </tr>\n",
              "  </tbody>\n",
              "</table>\n",
              "<p>1005 rows × 6 columns</p>\n",
              "</div>"
            ],
            "text/plain": [
              "                                     ringkasan_sinopsis  Drama  ...  Laga  Romantis\n",
              "0     Raden Mas Said putra sulung Tumenggung Wilarik...      1  ...     0         0\n",
              "1     Soe Hok Gie adalah seorang aktivis yang hidup ...      1  ...     0         0\n",
              "2     Guru Bangsa Tjokroaminoto menceritakan tentang...      1  ...     0         0\n",
              "3     POL menceritakan kisah hidup yang luar biasa d...      1  ...     0         0\n",
              "4     Perjalanan pahlawan Indonesia KH Ahmad Dahlan ...      1  ...     0         0\n",
              "...                                                 ...    ...  ...   ...       ...\n",
              "1000  Winter in Tokyo berpusat pada kehidupan Ishida...      0  ...     0         1\n",
              "1001  Markonah melarikan diri ke Jakarta karena akan...      0  ...     0         1\n",
              "1002  Tempat aking lebih dari 36 jam, Last Night ada...      0  ...     0         1\n",
              "1003  Proyek baru ini adalah tentang seorang lelaki ...      0  ...     0         1\n",
              "1004  Atika (Meriam Bellina) mantan penyanyi tenar, ...      0  ...     0         1\n",
              "\n",
              "[1005 rows x 6 columns]"
            ]
          },
          "metadata": {
            "tags": []
          },
          "execution_count": 87
        }
      ]
    },
    {
      "cell_type": "code",
      "metadata": {
        "id": "n86CqiwNIoDG",
        "colab_type": "code",
        "colab": {}
      },
      "source": [
        "sinopsis = df_baru['ringkasan_sinopsis'].values\n",
        "label = df_baru[['Drama', 'Horor', 'Komedi', 'Laga', 'Romantis']].values"
      ],
      "execution_count": 88,
      "outputs": []
    },
    {
      "cell_type": "code",
      "metadata": {
        "id": "hUTVLzOKIscO",
        "colab_type": "code",
        "colab": {}
      },
      "source": [
        "from sklearn.model_selection import train_test_split\n",
        "sinopsis_latih, sinopsis_test, label_latih, label_test = train_test_split(sinopsis, label, test_size=0.2)"
      ],
      "execution_count": 89,
      "outputs": []
    },
    {
      "cell_type": "code",
      "metadata": {
        "id": "uiDMO4BRIxhu",
        "colab_type": "code",
        "colab": {}
      },
      "source": [
        "from tensorflow.keras.preprocessing.text import Tokenizer\n",
        "from tensorflow.keras.preprocessing.sequence import pad_sequences\n",
        " \n",
        "tokenizer = Tokenizer(num_words=5000, oov_token='x')\n",
        "tokenizer.fit_on_texts(sinopsis_latih) \n",
        "tokenizer.fit_on_texts(sinopsis_test)\n",
        " \n",
        "sekuens_latih = tokenizer.texts_to_sequences(sinopsis_latih)\n",
        "sekuens_test = tokenizer.texts_to_sequences(sinopsis_test)\n",
        " \n",
        "padded_latih = pad_sequences(sekuens_latih) \n",
        "padded_test = pad_sequences(sekuens_test)"
      ],
      "execution_count": 91,
      "outputs": []
    },
    {
      "cell_type": "code",
      "metadata": {
        "id": "hi_gWA2LI9ps",
        "colab_type": "code",
        "colab": {}
      },
      "source": [
        "import tensorflow as tf\n",
        "model = tf.keras.Sequential([\n",
        "    tf.keras.layers.Embedding(input_dim=5000, output_dim=16),\n",
        "    tf.keras.layers.LSTM(64),\n",
        "    tf.keras.layers.Dense(128, activation='relu'),\n",
        "    tf.keras.layers.Dense(64, activation='relu'),\n",
        "    tf.keras.layers.Dense(5, activation='softmax')\n",
        "])\n",
        "model.compile(loss='categorical_crossentropy',optimizer='adam',metrics=['accuracy'])"
      ],
      "execution_count": 92,
      "outputs": []
    },
    {
      "cell_type": "code",
      "metadata": {
        "id": "SKjswfStJE9r",
        "colab_type": "code",
        "colab": {
          "base_uri": "https://localhost:8080/",
          "height": 1000
        },
        "outputId": "4f3757cc-bbc9-4de7-cf79-d116afddcd5f"
      },
      "source": [
        "num_epochs = 30\n",
        "history = model.fit(padded_latih, label_latih, epochs=num_epochs, \n",
        "                    validation_data=(padded_test, label_test), verbose=2)"
      ],
      "execution_count": 93,
      "outputs": [
        {
          "output_type": "stream",
          "text": [
            "Epoch 1/30\n",
            "26/26 - 26s - loss: 1.6100 - accuracy: 0.2027 - val_loss: 1.6105 - val_accuracy: 0.1791\n",
            "Epoch 2/30\n",
            "26/26 - 30s - loss: 1.6031 - accuracy: 0.2164 - val_loss: 1.6048 - val_accuracy: 0.2438\n",
            "Epoch 3/30\n",
            "26/26 - 29s - loss: 1.5622 - accuracy: 0.3682 - val_loss: 1.5888 - val_accuracy: 0.2239\n",
            "Epoch 4/30\n",
            "26/26 - 32s - loss: 1.3508 - accuracy: 0.4465 - val_loss: 1.6073 - val_accuracy: 0.2786\n",
            "Epoch 5/30\n",
            "26/26 - 29s - loss: 1.1132 - accuracy: 0.5398 - val_loss: 1.7169 - val_accuracy: 0.2637\n",
            "Epoch 6/30\n",
            "26/26 - 28s - loss: 0.8527 - accuracy: 0.6903 - val_loss: 1.7157 - val_accuracy: 0.3582\n",
            "Epoch 7/30\n",
            "26/26 - 28s - loss: 0.5848 - accuracy: 0.8445 - val_loss: 1.9745 - val_accuracy: 0.3234\n",
            "Epoch 8/30\n",
            "26/26 - 28s - loss: 0.2605 - accuracy: 0.9490 - val_loss: 2.9079 - val_accuracy: 0.2836\n",
            "Epoch 9/30\n",
            "26/26 - 28s - loss: 0.1450 - accuracy: 0.9614 - val_loss: 2.7399 - val_accuracy: 0.3134\n",
            "Epoch 10/30\n",
            "26/26 - 29s - loss: 0.0541 - accuracy: 0.9925 - val_loss: 3.2457 - val_accuracy: 0.3035\n",
            "Epoch 11/30\n",
            "26/26 - 29s - loss: 0.0297 - accuracy: 0.9950 - val_loss: 3.6370 - val_accuracy: 0.2886\n",
            "Epoch 12/30\n",
            "26/26 - 30s - loss: 0.0216 - accuracy: 0.9950 - val_loss: 3.7155 - val_accuracy: 0.2935\n",
            "Epoch 13/30\n",
            "26/26 - 29s - loss: 0.0125 - accuracy: 0.9988 - val_loss: 4.0996 - val_accuracy: 0.2836\n",
            "Epoch 14/30\n",
            "26/26 - 29s - loss: 0.0062 - accuracy: 0.9988 - val_loss: 4.1705 - val_accuracy: 0.2985\n",
            "Epoch 15/30\n",
            "26/26 - 28s - loss: 0.0106 - accuracy: 0.9988 - val_loss: 4.0854 - val_accuracy: 0.3035\n",
            "Epoch 16/30\n",
            "26/26 - 28s - loss: 0.0074 - accuracy: 0.9988 - val_loss: 4.2443 - val_accuracy: 0.3134\n",
            "Epoch 17/30\n",
            "26/26 - 28s - loss: 0.0122 - accuracy: 0.9975 - val_loss: 4.1909 - val_accuracy: 0.2886\n",
            "Epoch 18/30\n",
            "26/26 - 28s - loss: 0.0044 - accuracy: 0.9988 - val_loss: 4.3255 - val_accuracy: 0.2836\n",
            "Epoch 19/30\n",
            "26/26 - 28s - loss: 0.0035 - accuracy: 0.9975 - val_loss: 4.5084 - val_accuracy: 0.2836\n",
            "Epoch 20/30\n",
            "26/26 - 29s - loss: 0.0041 - accuracy: 0.9975 - val_loss: 4.5457 - val_accuracy: 0.3134\n",
            "Epoch 21/30\n",
            "26/26 - 28s - loss: 0.0054 - accuracy: 0.9988 - val_loss: 4.8591 - val_accuracy: 0.2886\n",
            "Epoch 22/30\n",
            "26/26 - 29s - loss: 0.0083 - accuracy: 0.9988 - val_loss: 4.4512 - val_accuracy: 0.2985\n",
            "Epoch 23/30\n",
            "26/26 - 29s - loss: 0.0061 - accuracy: 0.9988 - val_loss: 4.4139 - val_accuracy: 0.3234\n",
            "Epoch 24/30\n",
            "26/26 - 29s - loss: 0.0047 - accuracy: 0.9988 - val_loss: 4.7089 - val_accuracy: 0.3035\n",
            "Epoch 25/30\n",
            "26/26 - 30s - loss: 0.0072 - accuracy: 0.9975 - val_loss: 4.7301 - val_accuracy: 0.3184\n",
            "Epoch 26/30\n",
            "26/26 - 29s - loss: 0.0235 - accuracy: 0.9913 - val_loss: 3.6176 - val_accuracy: 0.3483\n",
            "Epoch 27/30\n",
            "26/26 - 29s - loss: 0.0245 - accuracy: 0.9975 - val_loss: 3.9241 - val_accuracy: 0.3234\n",
            "Epoch 28/30\n",
            "26/26 - 29s - loss: 0.0206 - accuracy: 0.9938 - val_loss: 4.0062 - val_accuracy: 0.3085\n",
            "Epoch 29/30\n",
            "26/26 - 28s - loss: 0.0245 - accuracy: 0.9938 - val_loss: 3.9386 - val_accuracy: 0.2985\n",
            "Epoch 30/30\n",
            "26/26 - 29s - loss: 0.0054 - accuracy: 1.0000 - val_loss: 4.1361 - val_accuracy: 0.3234\n"
          ],
          "name": "stdout"
        }
      ]
    }
  ]
}
